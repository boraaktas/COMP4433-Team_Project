{
 "cells": [
  {
   "cell_type": "markdown",
   "metadata": {},
   "source": [
    "## Import libraries"
   ]
  },
  {
   "cell_type": "code",
   "execution_count": null,
   "metadata": {},
   "outputs": [],
   "source": [
    "#Import libraries\n",
    "import numpy as np\n",
    "import pandas as pd\n",
    "import seaborn as sns\n",
    "import matplotlib.pyplot as plt"
   ]
  },
  {
   "cell_type": "markdown",
   "metadata": {},
   "source": [
    "## Read data from CSV file"
   ]
  },
  {
   "cell_type": "code",
   "execution_count": null,
   "metadata": {},
   "outputs": [],
   "source": [
    "IMPUTED_TRAIN_DATA = pd.read_csv('data/imputed_train_data.csv')\n",
    "test_df = pd.read_csv('data/imputed_test_data.csv')"
   ]
  },
  {
   "cell_type": "markdown",
   "metadata": {},
   "source": [
    "## 1. Visualization of outliers for numerical features"
   ]
  },
  {
   "cell_type": "code",
   "execution_count": null,
   "metadata": {},
   "outputs": [],
   "source": [
    "#GET ALL THE NUMERICAL FEATURES\n",
    "numerical_features = IMPUTED_TRAIN_DATA.select_dtypes(include=[np.number]).columns\n",
    "numerical_features"
   ]
  },
  {
   "cell_type": "code",
   "execution_count": null,
   "metadata": {},
   "outputs": [],
   "source": [
    "#CHECKING FOR NUMBER OF UNIQUE VALUES \n",
    "def unique_values(df: pd.DataFrame, numerical_features):\n",
    "    temp_list = []\n",
    "    for feature in numerical_features:\n",
    "        unique_vals = df[feature].nunique()\n",
    "        temp_list.append({'feature': feature, 'unique_vals_count': unique_vals})\n",
    "    unique_vals_df = pd.DataFrame(temp_list)\n",
    "    return unique_vals_df\n",
    "\n",
    "unique_values_df = unique_values(IMPUTED_TRAIN_DATA, numerical_features)\n",
    "unique_values_df.sort_values(by=\"unique_vals_count\", ascending=False, inplace=True)\n",
    "unique_values_df"
   ]
  },
  {
   "cell_type": "code",
   "execution_count": null,
   "metadata": {},
   "outputs": [],
   "source": [
    "#PLOT NUMBER OF UNIQUE VALUES TO LOOK FOR RELEVANT FEATURES THAT MAY HAVE OUTLINERS\n",
    "plt.figure(figsize=(12,6))\n",
    "sns.barplot(data=unique_values_df, y=\"unique_vals_count\", x='feature')\n",
    "plt.xticks(rotation=75)\n",
    "plt.show()"
   ]
  },
  {
   "cell_type": "code",
   "execution_count": null,
   "metadata": {},
   "outputs": [],
   "source": [
    "#WANT TO LOOK FOR OUTLIERS FOR EVERY FEATURE WITH MORE THAN 50 UNIQUE VALUES\n",
    "high_unique_features = unique_values_df[unique_values_df[\"unique_vals_count\"] > 50][\"feature\"].to_list()"
   ]
  },
  {
   "cell_type": "code",
   "execution_count": null,
   "metadata": {},
   "outputs": [],
   "source": [
    "def plot_outliers(df : pd.DataFrame, feature : str, target : str = \"SalePrice\"):\n",
    "    fig, axes = plt.subplots(1, 2, figsize=(8, 4))\n",
    "    sns.scatterplot(data=IMPUTED_TRAIN_DATA, x=feature, y=target, ax=axes[0])\n",
    "    sns.boxplot(data=IMPUTED_TRAIN_DATA, y=feature, ax=axes[1])\n",
    "    plt.tight_layout()\n",
    "    plt.show()"
   ]
  },
  {
   "cell_type": "code",
   "execution_count": null,
   "metadata": {},
   "outputs": [],
   "source": [
    "#SCATTERPLOT AND BOXPLOT FOR SELECTED FEATURES\n",
    "def plot_outliers_features(df : pd.DataFrame, features : list, target : str = \"SalePrice\"):\n",
    "    fig, axes = plt.subplots((len(features)), 2, figsize=(8, 50))\n",
    "    i = 0\n",
    "    for feature in features:\n",
    "        sns.scatterplot(data=IMPUTED_TRAIN_DATA, x=feature, y=target, ax=axes[i,0])\n",
    "        sns.boxplot(data=IMPUTED_TRAIN_DATA, y=feature, ax=axes[i,1])\n",
    "        i+=1\n",
    "    plt.tight_layout()\n",
    "    plt.show()"
   ]
  },
  {
   "cell_type": "code",
   "execution_count": null,
   "metadata": {},
   "outputs": [],
   "source": [
    "plot_outliers_features(IMPUTED_TRAIN_DATA, high_unique_features)"
   ]
  },
  {
   "cell_type": "markdown",
   "metadata": {},
   "source": [
    "The following features/columns have some outliers: \n",
    "- LotFrontage\n",
    "- LotArea\n",
    "- GrLivArea\n",
    "- BsmtFinSF1\n",
    "- TotalBsmtSF\n",
    "- 1stFlrSF\n",
    "- MasVnrArea\n",
    "\n",
    "To decide the treshhold for remoiving the outliers we do some more analysis of the datapoints for both the train-set and test-set"
   ]
  },
  {
   "cell_type": "markdown",
   "metadata": {},
   "source": [
    "### 2.2 Outlier analysis to find treshholds"
   ]
  },
  {
   "cell_type": "code",
   "execution_count": null,
   "metadata": {},
   "outputs": [],
   "source": [
    "def outlier_analysis(train_df : pd.DataFrame, test_df : pd.DataFrame, feature : str): \n",
    "    #Scatterplot of the 50 highest value in the train-set and test-set\n",
    "    fig, axes = plt.subplots(1,3, figsize = (12,4))\n",
    "    sns.scatterplot(x = train_df[feature].sort_values(ascending=False)[:50], y=[10] * len(train_df[:50]), label = \"Train data\", color = \"blue\", ax = axes[0])\n",
    "    sns.scatterplot(x=test_df[feature].sort_values(ascending=False)[:50], y=[20] * len(test_df[:50]), label = \"Test data\",color = \"red\", ax = axes[0])\n",
    "    axes[0].set_title(f\"Fig1: Scatter Plot of {feature} comparing train and test data\", fontsize = 10)\n",
    "    axes[0].grid(True, linestyle='--', alpha=0.5)\n",
    "    \n",
    "    #CDF plot of both datasets.  \n",
    "    sns.ecdfplot(x= train_df[feature], color = \"blue\", label=\"Train data\", ax = axes[1])\n",
    "    sns.ecdfplot(test_df[feature], label=\"Test data\", color=\"red\", ax=axes[1])\n",
    "    axes[1].set_title(f\"Fig2: CDF of {feature}\", fontsize = 10)\n",
    "    axes[1].grid(True, linestyle=\"--\", alpha=0.5)\n",
    "    outlier_threshold = train_df[feature].quantile(0.99)\n",
    "    axes[1].axvspan(outlier_threshold, train_df[feature].max(), color=\"red\", alpha=0.1, label=\"Potential Outliers\")\n",
    "    axes[1].legend()\n",
    "    \n",
    "    #Scatterplot of all datapoints in trainset with respect to the SalePrice\n",
    "    sns.scatterplot(train_df, x = feature, y = \"SalePrice\", ax = axes[2])\n",
    "    axes[2].set_title(f\"Fig 3: Scatterplot of {feature} with respect to SalePrice\", fontsize = 10)\n",
    "    plt.tight_layout()\n",
    "    plt.show()"
   ]
  },
  {
   "cell_type": "markdown",
   "metadata": {},
   "source": [
    "#### 2.2.1 LotArea"
   ]
  },
  {
   "cell_type": "code",
   "execution_count": null,
   "metadata": {},
   "outputs": [],
   "source": [
    "#LOTAREA\n",
    "outlier_analysis(IMPUTED_TRAIN_DATA, test_df, \"LotArea\")"
   ]
  },
  {
   "cell_type": "markdown",
   "metadata": {},
   "source": [
    "In Figure 1, we observe a few data points with LotArea values exceeding 100,000, which appear to be outliers, as they are significantly larger than the majority of the data points. Notably, such high values are absent in the test set, suggesting these extreme cases are unique to the training data.\n",
    "\n",
    "In Figure 3, we can see that these data points with exceptionally high LotArea values do not correspond to proportionally high SalePrice values. Instead, they tend to have relatively low SalePrice values, indicating that these large LotArea properties might not follow the typical relationship between LotArea and SalePrice seen in the rest of the dataset.\n",
    "\n",
    "Therefore we drop the values above 100000."
   ]
  },
  {
   "cell_type": "code",
   "execution_count": null,
   "metadata": {},
   "outputs": [],
   "source": [
    "#DROP ENTRIES IN TRAIN_DF WITH \"LotArea\" > 100000\n",
    "IMPUTED_TRAIN_DATA = IMPUTED_TRAIN_DATA[IMPUTED_TRAIN_DATA[\"LotArea\"] < 100000]"
   ]
  },
  {
   "cell_type": "markdown",
   "metadata": {},
   "source": [
    "#### 2.2.2 LotFrontage"
   ]
  },
  {
   "cell_type": "code",
   "execution_count": null,
   "metadata": {},
   "outputs": [],
   "source": [
    "#LOTFRONTAGE\n",
    "outlier_analysis(IMPUTED_TRAIN_DATA, test_df, \"LotFrontage\")"
   ]
  },
  {
   "cell_type": "markdown",
   "metadata": {},
   "source": [
    "For LotFrontage, we identify two outliers in the training set with values exceeding 200. These points deviate substantially from the main cluster of data and have no counterparts in the test set, highlighting their uniqueness to the training data.\n",
    "\n",
    "As shown in the last figure, these high LotFrontage values do not exhibit a clear relationship with SalePrice, indicating that they may be anomalies or extreme cases that don’t align with the general trend of the data. Given their deviation and lack of predictive value, we will exclude all LotFrontage values above 200 from further analysis."
   ]
  },
  {
   "cell_type": "code",
   "execution_count": null,
   "metadata": {},
   "outputs": [],
   "source": [
    "#DROP ENTRIES IN TRAIN_DF WITH \"LotFrontage\" > 200\n",
    "IMPUTED_TRAIN_DATA = IMPUTED_TRAIN_DATA[IMPUTED_TRAIN_DATA[\"LotFrontage\"] < 200]"
   ]
  },
  {
   "cell_type": "markdown",
   "metadata": {},
   "source": [
    "#### 2.2.3 GrLivArea"
   ]
  },
  {
   "cell_type": "code",
   "execution_count": null,
   "metadata": {},
   "outputs": [],
   "source": [
    "outlier_analysis(IMPUTED_TRAIN_DATA, test_df, \"GrLivArea\")"
   ]
  },
  {
   "cell_type": "markdown",
   "metadata": {},
   "source": [
    "We observe a single outlier in the traning set for *GrLivArea* with a value exceeding 4500 and an unusually low SalePrice.Therefore, we will exclude this data point from further analysis. Also since there is only one datapoint in the trainset with such a high value, it will do with removing the high datapoint from the training-set- "
   ]
  },
  {
   "cell_type": "code",
   "execution_count": null,
   "metadata": {},
   "outputs": [],
   "source": [
    "#DROP ENTRIES IN TRAIN_DF WITH \"GrLivArea\" > 4500\n",
    "IMPUTED_TRAIN_DATA = IMPUTED_TRAIN_DATA[IMPUTED_TRAIN_DATA[\"GrLivArea\"] < 4500]"
   ]
  },
  {
   "cell_type": "markdown",
   "metadata": {},
   "source": [
    "#### 2.2.4 BsmtFinSF1"
   ]
  },
  {
   "cell_type": "code",
   "execution_count": null,
   "metadata": {},
   "outputs": [],
   "source": [
    "outlier_analysis(IMPUTED_TRAIN_DATA, test_df, 'BsmtFinSF1')"
   ]
  },
  {
   "cell_type": "markdown",
   "metadata": {},
   "source": [
    "For BsmtFinSF1, we observe that the only outlier with a value exceeding 3000 with comparatively low SalePrice has already been removed. Therefore, no additional values need to be dropped from this feature."
   ]
  },
  {
   "cell_type": "markdown",
   "metadata": {},
   "source": [
    "#### 2.2.5 TotalBsmtSF"
   ]
  },
  {
   "cell_type": "code",
   "execution_count": null,
   "metadata": {},
   "outputs": [],
   "source": [
    "outlier_analysis(IMPUTED_TRAIN_DATA, test_df, 'TotalBsmtSF')"
   ]
  },
  {
   "cell_type": "markdown",
   "metadata": {},
   "source": [
    "The outliers for TotalBsmt exceeding 5000 has already been removed, so no additional values are being dropped. "
   ]
  },
  {
   "cell_type": "markdown",
   "metadata": {},
   "source": [
    "#### 2.2.6.1stFlrSF"
   ]
  },
  {
   "cell_type": "code",
   "execution_count": null,
   "metadata": {},
   "outputs": [],
   "source": [
    "outlier_analysis(IMPUTED_TRAIN_DATA, test_df, '1stFlrSF')"
   ]
  },
  {
   "cell_type": "markdown",
   "metadata": {},
   "source": [
    "The outliers for 1stFlrSF exceeding 3000 has already been removed, so no additional values are being dropped. "
   ]
  },
  {
   "cell_type": "markdown",
   "metadata": {},
   "source": [
    "#### 2.2.7 MasVnrArea"
   ]
  },
  {
   "cell_type": "code",
   "execution_count": null,
   "metadata": {},
   "outputs": [],
   "source": [
    "outlier_analysis(IMPUTED_TRAIN_DATA, test_df, 'MasVnrArea')"
   ]
  },
  {
   "cell_type": "markdown",
   "metadata": {},
   "source": [
    "We observe one outlier in the traning set for *MasVnrArea* with a value exceeding 1500 and a comparatively low SalePrice. Therefore, we will drop this value from the training-set. "
   ]
  },
  {
   "cell_type": "code",
   "execution_count": null,
   "metadata": {},
   "outputs": [],
   "source": [
    "#DROP ENTRIES IN TRAIN_DF WITH \"MasVnrArea\" > 1500\n",
    "IMPUTED_TRAIN_DATA = IMPUTED_TRAIN_DATA[IMPUTED_TRAIN_DATA[\"MasVnrArea\"] < 1500]"
   ]
  }
 ],
 "metadata": {
  "kernelspec": {
   "display_name": "Python 3",
   "language": "python",
   "name": "python3"
  },
  "language_info": {
   "codemirror_mode": {
    "name": "ipython",
    "version": 3
   },
   "file_extension": ".py",
   "mimetype": "text/x-python",
   "name": "python",
   "nbconvert_exporter": "python",
   "pygments_lexer": "ipython3",
   "version": "3.11.7"
  }
 },
 "nbformat": 4,
 "nbformat_minor": 2
}
