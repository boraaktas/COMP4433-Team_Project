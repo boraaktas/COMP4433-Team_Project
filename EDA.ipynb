{
 "cells": [
  {
   "cell_type": "markdown",
   "metadata": {},
   "source": [
    "# Explority data analysis (EDA)\n",
    "- Some investigation of the dataset before doing the clean and feature engineering"
   ]
  },
  {
   "cell_type": "code",
   "execution_count": 1,
   "metadata": {},
   "outputs": [],
   "source": [
    "#Import libraries \n",
    "import numpy as np\n",
    "import pandas as pd\n",
    "import seaborn as sns\n",
    "import matplotlib.pyplot as plt\n",
    "from xlwings import view\n",
    "from sklearn.metrics import mean_squared_error, explained_variance_score\n",
    "from sklearn.preprocessing import StandardScaler\n",
    "from sklearn.linear_model import LinearRegression, Ridge, RidgeCV, ElasticNet, ElasticNetCV, Lasso, LassoCV"
   ]
  },
  {
   "cell_type": "markdown",
   "metadata": {},
   "source": [
    "## Data Preprocessing"
   ]
  },
  {
   "cell_type": "code",
   "execution_count": 2,
   "metadata": {},
   "outputs": [],
   "source": [
    "#Read dataset\n",
    "train_df = pd.read_csv('data/train.csv', sep = ',')\n",
    "test_df = pd.read_csv('data/test.csv', sep = ',')"
   ]
  },
  {
   "cell_type": "markdown",
   "metadata": {},
   "source": [
    "### Check of data"
   ]
  },
  {
   "cell_type": "code",
   "execution_count": 3,
   "metadata": {},
   "outputs": [
    {
     "name": "stdout",
     "output_type": "stream",
     "text": [
      "----- SHAPE -----\n"
     ]
    },
    {
     "data": {
      "text/plain": [
       "(1460, 81)"
      ]
     },
     "execution_count": 3,
     "metadata": {},
     "output_type": "execute_result"
    }
   ],
   "source": [
    "#Shape\n",
    "print(\"----- SHAPE -----\")\n",
    "train_df.shape"
   ]
  },
  {
   "cell_type": "code",
   "execution_count": 4,
   "metadata": {},
   "outputs": [
    {
     "name": "stdout",
     "output_type": "stream",
     "text": [
      "----- INFO -----\n",
      "<class 'pandas.core.frame.DataFrame'>\n",
      "RangeIndex: 1460 entries, 0 to 1459\n",
      "Data columns (total 81 columns):\n",
      " #   Column         Non-Null Count  Dtype  \n",
      "---  ------         --------------  -----  \n",
      " 0   Id             1460 non-null   int64  \n",
      " 1   MSSubClass     1460 non-null   int64  \n",
      " 2   MSZoning       1460 non-null   object \n",
      " 3   LotFrontage    1201 non-null   float64\n",
      " 4   LotArea        1460 non-null   int64  \n",
      " 5   Street         1460 non-null   object \n",
      " 6   Alley          91 non-null     object \n",
      " 7   LotShape       1460 non-null   object \n",
      " 8   LandContour    1460 non-null   object \n",
      " 9   Utilities      1460 non-null   object \n",
      " 10  LotConfig      1460 non-null   object \n",
      " 11  LandSlope      1460 non-null   object \n",
      " 12  Neighborhood   1460 non-null   object \n",
      " 13  Condition1     1460 non-null   object \n",
      " 14  Condition2     1460 non-null   object \n",
      " 15  BldgType       1460 non-null   object \n",
      " 16  HouseStyle     1460 non-null   object \n",
      " 17  OverallQual    1460 non-null   int64  \n",
      " 18  OverallCond    1460 non-null   int64  \n",
      " 19  YearBuilt      1460 non-null   int64  \n",
      " 20  YearRemodAdd   1460 non-null   int64  \n",
      " 21  RoofStyle      1460 non-null   object \n",
      " 22  RoofMatl       1460 non-null   object \n",
      " 23  Exterior1st    1460 non-null   object \n",
      " 24  Exterior2nd    1460 non-null   object \n",
      " 25  MasVnrType     588 non-null    object \n",
      " 26  MasVnrArea     1452 non-null   float64\n",
      " 27  ExterQual      1460 non-null   object \n",
      " 28  ExterCond      1460 non-null   object \n",
      " 29  Foundation     1460 non-null   object \n",
      " 30  BsmtQual       1423 non-null   object \n",
      " 31  BsmtCond       1423 non-null   object \n",
      " 32  BsmtExposure   1422 non-null   object \n",
      " 33  BsmtFinType1   1423 non-null   object \n",
      " 34  BsmtFinSF1     1460 non-null   int64  \n",
      " 35  BsmtFinType2   1422 non-null   object \n",
      " 36  BsmtFinSF2     1460 non-null   int64  \n",
      " 37  BsmtUnfSF      1460 non-null   int64  \n",
      " 38  TotalBsmtSF    1460 non-null   int64  \n",
      " 39  Heating        1460 non-null   object \n",
      " 40  HeatingQC      1460 non-null   object \n",
      " 41  CentralAir     1460 non-null   object \n",
      " 42  Electrical     1459 non-null   object \n",
      " 43  1stFlrSF       1460 non-null   int64  \n",
      " 44  2ndFlrSF       1460 non-null   int64  \n",
      " 45  LowQualFinSF   1460 non-null   int64  \n",
      " 46  GrLivArea      1460 non-null   int64  \n",
      " 47  BsmtFullBath   1460 non-null   int64  \n",
      " 48  BsmtHalfBath   1460 non-null   int64  \n",
      " 49  FullBath       1460 non-null   int64  \n",
      " 50  HalfBath       1460 non-null   int64  \n",
      " 51  BedroomAbvGr   1460 non-null   int64  \n",
      " 52  KitchenAbvGr   1460 non-null   int64  \n",
      " 53  KitchenQual    1460 non-null   object \n",
      " 54  TotRmsAbvGrd   1460 non-null   int64  \n",
      " 55  Functional     1460 non-null   object \n",
      " 56  Fireplaces     1460 non-null   int64  \n",
      " 57  FireplaceQu    770 non-null    object \n",
      " 58  GarageType     1379 non-null   object \n",
      " 59  GarageYrBlt    1379 non-null   float64\n",
      " 60  GarageFinish   1379 non-null   object \n",
      " 61  GarageCars     1460 non-null   int64  \n",
      " 62  GarageArea     1460 non-null   int64  \n",
      " 63  GarageQual     1379 non-null   object \n",
      " 64  GarageCond     1379 non-null   object \n",
      " 65  PavedDrive     1460 non-null   object \n",
      " 66  WoodDeckSF     1460 non-null   int64  \n",
      " 67  OpenPorchSF    1460 non-null   int64  \n",
      " 68  EnclosedPorch  1460 non-null   int64  \n",
      " 69  3SsnPorch      1460 non-null   int64  \n",
      " 70  ScreenPorch    1460 non-null   int64  \n",
      " 71  PoolArea       1460 non-null   int64  \n",
      " 72  PoolQC         7 non-null      object \n",
      " 73  Fence          281 non-null    object \n",
      " 74  MiscFeature    54 non-null     object \n",
      " 75  MiscVal        1460 non-null   int64  \n",
      " 76  MoSold         1460 non-null   int64  \n",
      " 77  YrSold         1460 non-null   int64  \n",
      " 78  SaleType       1460 non-null   object \n",
      " 79  SaleCondition  1460 non-null   object \n",
      " 80  SalePrice      1460 non-null   int64  \n",
      "dtypes: float64(3), int64(35), object(43)\n",
      "memory usage: 924.0+ KB\n"
     ]
    }
   ],
   "source": [
    "#Info\n",
    "print(\"----- INFO -----\")\n",
    "train_df.info()"
   ]
  },
  {
   "cell_type": "code",
   "execution_count": 5,
   "metadata": {},
   "outputs": [
    {
     "name": "stdout",
     "output_type": "stream",
     "text": [
      "Column: BsmtFinSF1, Test dtype: float64, Train dtype: int64\n",
      "Column: BsmtFinSF2, Test dtype: float64, Train dtype: int64\n",
      "Column: BsmtUnfSF, Test dtype: float64, Train dtype: int64\n",
      "Column: TotalBsmtSF, Test dtype: float64, Train dtype: int64\n",
      "Column: BsmtFullBath, Test dtype: float64, Train dtype: int64\n",
      "Column: BsmtHalfBath, Test dtype: float64, Train dtype: int64\n",
      "Column: GarageCars, Test dtype: float64, Train dtype: int64\n",
      "Column: GarageArea, Test dtype: float64, Train dtype: int64\n"
     ]
    }
   ],
   "source": [
    "for col in test_df.columns:\n",
    "    if test_df[col].dtype != train_df[col].dtype:\n",
    "        print(f\"Column: {col}, Test dtype: {test_df[col].dtype}, Train dtype: {train_df[col].dtype}\")\n",
    "        test_df[col] = test_df[col].fillna(0)\n",
    "        test_df[col] = test_df[col].astype(int)\n",
    "for i in test_df.columns:\n",
    "    if test_df[i].dtype != train_df[i].dtype:\n",
    "        print(i, test_df[i].dtype, train_df[i].dtype)\n",
    "        test_df[i] = test_df[i].fillna(0)\n",
    "        test_df[i] = test_df[i].astype(int)\n",
    "        print(i, test_df[i].dtype, train_df[i].dtype)"
   ]
  },
  {
   "cell_type": "markdown",
   "metadata": {},
   "source": [
    "## Correlation matrix"
   ]
  },
  {
   "cell_type": "code",
   "execution_count": null,
   "metadata": {},
   "outputs": [],
   "source": []
  },
  {
   "cell_type": "markdown",
   "metadata": {},
   "source": [
    "## Handle Missing values"
   ]
  },
  {
   "cell_type": "code",
   "execution_count": 6,
   "metadata": {},
   "outputs": [
    {
     "data": {
      "text/html": [
       "<div>\n",
       "<style scoped>\n",
       "    .dataframe tbody tr th:only-of-type {\n",
       "        vertical-align: middle;\n",
       "    }\n",
       "\n",
       "    .dataframe tbody tr th {\n",
       "        vertical-align: top;\n",
       "    }\n",
       "\n",
       "    .dataframe thead th {\n",
       "        text-align: right;\n",
       "    }\n",
       "</style>\n",
       "<table border=\"1\" class=\"dataframe\">\n",
       "  <thead>\n",
       "    <tr style=\"text-align: right;\">\n",
       "      <th></th>\n",
       "      <th>column_name</th>\n",
       "      <th>percentage</th>\n",
       "    </tr>\n",
       "  </thead>\n",
       "  <tbody>\n",
       "    <tr>\n",
       "      <th>0</th>\n",
       "      <td>Id</td>\n",
       "      <td>0.000000</td>\n",
       "    </tr>\n",
       "    <tr>\n",
       "      <th>1</th>\n",
       "      <td>MSSubClass</td>\n",
       "      <td>0.000000</td>\n",
       "    </tr>\n",
       "    <tr>\n",
       "      <th>2</th>\n",
       "      <td>MSZoning</td>\n",
       "      <td>0.000000</td>\n",
       "    </tr>\n",
       "    <tr>\n",
       "      <th>3</th>\n",
       "      <td>LotFrontage</td>\n",
       "      <td>17.739726</td>\n",
       "    </tr>\n",
       "    <tr>\n",
       "      <th>4</th>\n",
       "      <td>LotArea</td>\n",
       "      <td>0.000000</td>\n",
       "    </tr>\n",
       "    <tr>\n",
       "      <th>...</th>\n",
       "      <td>...</td>\n",
       "      <td>...</td>\n",
       "    </tr>\n",
       "    <tr>\n",
       "      <th>76</th>\n",
       "      <td>MoSold</td>\n",
       "      <td>0.000000</td>\n",
       "    </tr>\n",
       "    <tr>\n",
       "      <th>77</th>\n",
       "      <td>YrSold</td>\n",
       "      <td>0.000000</td>\n",
       "    </tr>\n",
       "    <tr>\n",
       "      <th>78</th>\n",
       "      <td>SaleType</td>\n",
       "      <td>0.000000</td>\n",
       "    </tr>\n",
       "    <tr>\n",
       "      <th>79</th>\n",
       "      <td>SaleCondition</td>\n",
       "      <td>0.000000</td>\n",
       "    </tr>\n",
       "    <tr>\n",
       "      <th>80</th>\n",
       "      <td>SalePrice</td>\n",
       "      <td>0.000000</td>\n",
       "    </tr>\n",
       "  </tbody>\n",
       "</table>\n",
       "<p>81 rows × 2 columns</p>\n",
       "</div>"
      ],
      "text/plain": [
       "      column_name  percentage\n",
       "0              Id    0.000000\n",
       "1      MSSubClass    0.000000\n",
       "2        MSZoning    0.000000\n",
       "3     LotFrontage   17.739726\n",
       "4         LotArea    0.000000\n",
       "..            ...         ...\n",
       "76         MoSold    0.000000\n",
       "77         YrSold    0.000000\n",
       "78       SaleType    0.000000\n",
       "79  SaleCondition    0.000000\n",
       "80      SalePrice    0.000000\n",
       "\n",
       "[81 rows x 2 columns]"
      ]
     },
     "execution_count": 6,
     "metadata": {},
     "output_type": "execute_result"
    }
   ],
   "source": [
    "#Checking features for missing value by getting the percentage of missing values\n",
    "\n",
    "missing_values_percent = [(col,train_df[col].isna().mean() * 100) for col in train_df]\n",
    "missing_values_percent = pd.DataFrame(missing_values_percent, columns = [\"column_name\", \"percentage\"])\n",
    "missing_values_percent"
   ]
  },
  {
   "cell_type": "markdown",
   "metadata": {},
   "source": [
    "### Features with Null values"
   ]
  },
  {
   "cell_type": "code",
   "execution_count": 7,
   "metadata": {},
   "outputs": [
    {
     "name": "stderr",
     "output_type": "stream",
     "text": [
      "/var/folders/_0/wx2hxqy90vl4lrsknhfp343w0000gn/T/ipykernel_53348/3633100850.py:5: SettingWithCopyWarning: \n",
      "A value is trying to be set on a copy of a slice from a DataFrame\n",
      "\n",
      "See the caveats in the documentation: https://pandas.pydata.org/pandas-docs/stable/user_guide/indexing.html#returning-a-view-versus-a-copy\n",
      "  missing_values.sort_values(by = \"percentage\", ascending=False, inplace=True)\n"
     ]
    },
    {
     "data": {
      "image/png": "[encoded data removed]",
      "text/plain": [
       "<Figure size 1200x600 with 1 Axes>"
      ]
     },
     "metadata": {},
     "output_type": "display_data"
    }
   ],
   "source": [
    "#Fetch features with more than 1% missing values\n",
    "missing_values = missing_values_percent[missing_values_percent.percentage > 1]\n",
    "\n",
    "#Sort by descending percentage\n",
    "missing_values.sort_values(by = \"percentage\", ascending=False, inplace=True)\n",
    "\n",
    "plt.figure(figsize=(12,6))\n",
    "sns.barplot(missing_values, x=\"percentage\", y = \"column_name\")\n",
    "plt.show()"
   ]
  },
  {
   "cell_type": "markdown",
   "metadata": {},
   "source": [
    "Features with more than 80% missing values can be dropped. Drop PoolQC, MiscFeature, Alley and Fence "
   ]
  },
  {
   "cell_type": "code",
   "execution_count": 8,
   "metadata": {},
   "outputs": [],
   "source": [
    "train1_df = train_df.copy()\n",
    "train1_df = train1_df.drop(['PoolQC', 'MiscFeature', 'Alley', 'Fence', 'Id'], axis = 1)"
   ]
  },
  {
   "cell_type": "code",
   "execution_count": 12,
   "metadata": {},
   "outputs": [
    {
     "name": "stdout",
     "output_type": "stream",
     "text": [
      "      MSSubClass MSZoning  LotFrontage  LotArea Street LotShape LandContour  \\\n",
      "1             20       RL         80.0     9600   Pave      Reg         Lvl   \n",
      "3             70       RL         60.0     9550   Pave      IR1         Lvl   \n",
      "5             50       RL         85.0    14115   Pave      IR1         Lvl   \n",
      "8             50       RM         51.0     6120   Pave      Reg         Lvl   \n",
      "9            190       RL         50.0     7420   Pave      Reg         Lvl   \n",
      "...          ...      ...          ...      ...    ...      ...         ...   \n",
      "1454          20       FV         62.0     7500   Pave      Reg         Lvl   \n",
      "1455          60       RL         62.0     7917   Pave      Reg         Lvl   \n",
      "1457          70       RL         66.0     9042   Pave      Reg         Lvl   \n",
      "1458          20       RL         68.0     9717   Pave      Reg         Lvl   \n",
      "1459          20       RL         75.0     9937   Pave      Reg         Lvl   \n",
      "\n",
      "     Utilities LotConfig LandSlope  ... EnclosedPorch 3SsnPorch ScreenPorch  \\\n",
      "1       AllPub       FR2       Gtl  ...             0         0           0   \n",
      "3       AllPub    Corner       Gtl  ...           272         0           0   \n",
      "5       AllPub    Inside       Gtl  ...             0       320           0   \n",
      "8       AllPub    Inside       Gtl  ...           205         0           0   \n",
      "9       AllPub    Corner       Gtl  ...             0         0           0   \n",
      "...        ...       ...       ...  ...           ...       ...         ...   \n",
      "1454    AllPub    Inside       Gtl  ...             0         0           0   \n",
      "1455    AllPub    Inside       Gtl  ...             0         0           0   \n",
      "1457    AllPub    Inside       Gtl  ...             0         0           0   \n",
      "1458    AllPub    Inside       Gtl  ...           112         0           0   \n",
      "1459    AllPub    Inside       Gtl  ...             0         0           0   \n",
      "\n",
      "     PoolArea MiscVal  MoSold  YrSold  SaleType  SaleCondition SalePrice  \n",
      "1           0       0       5    2007        WD         Normal    181500  \n",
      "3           0       0       2    2006        WD        Abnorml    140000  \n",
      "5           0     700      10    2009        WD         Normal    143000  \n",
      "8           0       0       4    2008        WD        Abnorml    129900  \n",
      "9           0       0       1    2008        WD         Normal    118000  \n",
      "...       ...     ...     ...     ...       ...            ...       ...  \n",
      "1454        0       0      10    2009        WD         Normal    185000  \n",
      "1455        0       0       8    2007        WD         Normal    175000  \n",
      "1457        0    2500       5    2010        WD         Normal    266500  \n",
      "1458        0       0       4    2010        WD         Normal    142125  \n",
      "1459        0       0       6    2008        WD         Normal    147500  \n",
      "\n",
      "[872 rows x 76 columns]\n"
     ]
    }
   ],
   "source": [
    "print(train1_df[train1_df['MasVnrType'].isna() == True])"
   ]
  },
  {
   "cell_type": "code",
   "execution_count": 12,
   "metadata": {},
   "outputs": [
    {
     "data": {
      "text/plain": [
       "LotFrontage     259\n",
       "MasVnrType      872\n",
       "MasVnrArea        8\n",
       "BsmtQual         37\n",
       "BsmtCond         37\n",
       "BsmtExposure     38\n",
       "BsmtFinType1     37\n",
       "BsmtFinType2     38\n",
       "Electrical        1\n",
       "FireplaceQu     690\n",
       "GarageType       81\n",
       "GarageYrBlt      81\n",
       "GarageFinish     81\n",
       "GarageQual       81\n",
       "GarageCond       81\n",
       "dtype: int64"
      ]
     },
     "execution_count": 12,
     "metadata": {},
     "output_type": "execute_result"
    }
   ],
   "source": [
    "null_columns = train1_df.isna().sum()\n",
    "null_columns = null_columns[null_columns > 0]\n",
    "null_columns"
   ]
  },
  {
   "cell_type": "markdown",
   "metadata": {},
   "source": [
    "The NAN-values in the categorical features are likely to represent that the feature is not present in that category. E.g. we can see that there are 81 that does not have a garage, and all the fatures related to garage are NaN. We can see that there might be some inconsistency in the dataset as for Bsmt there is some features with 37 Null Values and some with 38 NullValues. We can therefore do some more analysis on this. "
   ]
  },
  {
   "cell_type": "code",
   "execution_count": 20,
   "metadata": {},
   "outputs": [
    {
     "name": "stdout",
     "output_type": "stream",
     "text": [
      "Count\t #\t BsmtQual\t BsmtExposure\t BsmtFinType1\t BsmtFinType2\t BsmtCond\n"
     ]
    }
   ],
   "source": [
    "# Check for rows with Bsmt inconsistencies\n",
    "print('Count\\t #\\t BsmtQual\\t BsmtExposure\\t BsmtFinType1\\t BsmtFinType2\\t BsmtCond')\n",
    "s=0\n",
    "df = pd.DataFrame(columns=['Count', '#', 'BsmtQual','BsmtExposure', 'BsmtFinType1','BsmtFinType2','BsmtCond'])\n",
    "for i in range(len(train1_df)):\n",
    "    if train1_df['BsmtExposure'].isnull()[i] or train1_df['BsmtFinType2'].isnull()[i] == True:\n",
    "        if train1_df['BsmtCond'].isnull()[i] == False:\n",
    "            s+=1\n",
    "            new_row = {'Count':s, '#':i,'BsmtQual' : train1_df['BsmtQual'].isnull()[i],\n",
    "                       'BsmtExposure':train1_df['BsmtExposure'].isnull()[i],\n",
    "                       'BsmtFinType1' :train1_df['BsmtFinType1'].isnull()[i],\n",
    "                       'BsmtFinType2' :train1_df['BsmtFinType2'].isnull()[i],\n",
    "                       'BsmtCond' :train1_df['BsmtCond'].isnull()[i]}\n",
    "            df = df._append(new_row, ignore_index = True)"
   ]
  },
  {
   "cell_type": "markdown",
   "metadata": {},
   "source": [
    "Inconsistency in row 332 and row 948, so we can delete those two rows. "
   ]
  },
  {
   "cell_type": "code",
   "execution_count": 15,
   "metadata": {},
   "outputs": [],
   "source": [
    "train1_df = train1_df.drop([332, 948], axis = 0).reset_index(drop = True)"
   ]
  },
  {
   "cell_type": "markdown",
   "metadata": {},
   "source": [
    "Will also do some analysis on MasVnrType and MasVnrArea, as there is 872 NaN values for MasVnrType, and only 8 for MasVnrArea. Want to check the values for MasVnrArea when the MasVnrType is NaN"
   ]
  },
  {
   "cell_type": "code",
   "execution_count": 32,
   "metadata": {},
   "outputs": [
    {
     "data": {
      "text/plain": [
       "234    NaN\n",
       "528    NaN\n",
       "649    NaN\n",
       "935    NaN\n",
       "971    NaN\n",
       "975    NaN\n",
       "1241   NaN\n",
       "1276   NaN\n",
       "Name: MasVnrArea, dtype: float64"
      ]
     },
     "execution_count": 32,
     "metadata": {},
     "output_type": "execute_result"
    }
   ],
   "source": [
    "masVnrTypeNaN = train1_df[train1_df['MasVnrType'].isna() == True] \n",
    "masVnrAreaNaN = masVnrTypeNaN[masVnrTypeNaN['MasVnrArea'].isna() == True]\n",
    "masVnrAreaNaN['MasVnrArea']\n"
   ]
  },
  {
   "cell_type": "markdown",
   "metadata": {},
   "source": [
    "This means that all the 8 missing values for MasVnrArea have the value NaN for MasVnrType as well, and we can set all the missing MasVnrArea values to be 0. "
   ]
  },
  {
   "cell_type": "code",
   "execution_count": 33,
   "metadata": {},
   "outputs": [],
   "source": [
    "train1_df['MasVnrArea'] = train1_df['MasVnrArea'].fillna(0)"
   ]
  },
  {
   "cell_type": "markdown",
   "metadata": {},
   "source": [
    "### Splitting categorical and numerical features"
   ]
  },
  {
   "cell_type": "code",
   "execution_count": 12,
   "metadata": {},
   "outputs": [],
   "source": [
    "#Fetch the numerical and categorical features\n",
    "num_features_df = train1_df.select_dtypes(include = [np.number])\n",
    "cat_features_df = train1_df.select_dtypes(include = [\"object\"])"
   ]
  },
  {
   "cell_type": "markdown",
   "metadata": {},
   "source": [
    "### Numerical features"
   ]
  },
  {
   "cell_type": "code",
   "execution_count": 13,
   "metadata": {},
   "outputs": [],
   "source": [
    "#Fill missing values with mean\n",
    "num_features_df = num_features_df.fillna(num_features_df.mean())"
   ]
  },
  {
   "cell_type": "markdown",
   "metadata": {},
   "source": [
    "#### Histogram of all numerical features"
   ]
  },
  {
   "cell_type": "code",
   "execution_count": null,
   "metadata": {},
   "outputs": [],
   "source": [
    "fig, axes = plt.subplots(17, 2, figsize=(20, 60), sharey=False)\n",
    "\n",
    "s, r, c = 0,0,0\n",
    "for i in num_features_df.columns:\n",
    "    if num_features_df[i].dtype == 'int64':\n",
    "        s+=1\n",
    "        if s > 1 and r < 17:\n",
    "            sns.histplot(num_features_df[i], ax = axes[r,c])\n",
    "            c += 1\n",
    "            if c > 1:\n",
    "                r+=1; c = 0"
   ]
  },
  {
   "cell_type": "code",
   "execution_count": 15,
   "metadata": {},
   "outputs": [],
   "source": [
    "#Drop columns\n",
    "train_df = train_df.drop(columns=['PoolArea', 'MiscVal', 'Alley', 'Fence', ])"
   ]
  },
  {
   "cell_type": "markdown",
   "metadata": {},
   "source": [
    "#### Correlation matrix for numerical features"
   ]
  },
  {
   "cell_type": "code",
   "execution_count": null,
   "metadata": {},
   "outputs": [],
   "source": [
    "num_df_tmp = num_features_df.copy()\n",
    "corr = num_features_df.corr()\n",
    "plt.figure(figsize=(20,20))\n",
    "sns.heatmap(corr, annot = True, fmt=\".2f\", cmap='coolwarm', square=True, cbar_kws={\"shrink\": .8},linewidths=.5, linecolor='black' )\n",
    "plt.title('Correlation Matrix of Numerical Features')\n",
    "plt.xticks(rotation=45, ha='right')\n",
    "plt.yticks(rotation=0)\n",
    "plt.tight_layout()\n",
    "plt.show()"
   ]
  },
  {
   "cell_type": "code",
   "execution_count": null,
   "metadata": {},
   "outputs": [],
   "source": [
    "corr_target = corr['SalePrice'].sort_values(ascending=False)\n",
    "threshold = 0.5\n",
    "high_corr_features = corr_target[abs(corr_target) > threshold].index\n",
    "high_corr_matrix = num_features_df[high_corr_features].corr()\n",
    "styled_corr_matrix = high_corr_matrix.style.background_gradient(cmap='coolwarm')\n",
    "styled_corr_matrix = high_corr_matrix.style.background_gradient(cmap='coolwarm', axis=None).set_properties(**{'max-width': '80px', 'font-size': '10pt'})\n",
    "styled_corr_matrix\n",
    "#plt.figure(figsize=(8, 6))\n",
    "#sns.heatmap(high_corr_matrix, annot=True, fmt=\".2f\", cmap='coolwarm')\n",
    "#plt.title('Correlation Matrix of Highly Correlated Features')\n",
    "#plt.show()"
   ]
  },
  {
   "cell_type": "code",
   "execution_count": null,
   "metadata": {},
   "outputs": [],
   "source": [
    "# Correlation with target value\n",
    "corr_price = corr[\"SalePrice\"]\n",
    "corr_price_table = corr_price.to_frame()\n",
    "corr_price_table.style.background_gradient(cmap = \"coolwarm\")"
   ]
  },
  {
   "cell_type": "markdown",
   "metadata": {},
   "source": [
    "#### Categorical features"
   ]
  },
  {
   "cell_type": "code",
   "execution_count": null,
   "metadata": {},
   "outputs": [],
   "source": [
    "cat_features_df.dtypes"
   ]
  },
  {
   "cell_type": "markdown",
   "metadata": {},
   "source": [
    "### Plots "
   ]
  },
  {
   "cell_type": "markdown",
   "metadata": {},
   "source": [
    "#### Distribution of house prices"
   ]
  },
  {
   "cell_type": "code",
   "execution_count": null,
   "metadata": {},
   "outputs": [],
   "source": [
    "#Plots\n",
    "sns.histplot(train_df['SalePrice'])"
   ]
  },
  {
   "cell_type": "markdown",
   "metadata": {},
   "source": [
    "#### Distribution of numerical features \n"
   ]
  },
  {
   "cell_type": "code",
   "execution_count": null,
   "metadata": {},
   "outputs": [],
   "source": [
    "list(set(train_df.dtypes.to_list()))\n",
    "train_df_num = train_df.select_dtypes(include = ['float64', 'int64'])\n",
    "train_df_num.hist(figsize=(16,20), bins = 50, xlabelsize=8, ylabelsize=8)"
   ]
  },
  {
   "cell_type": "code",
   "execution_count": null,
   "metadata": {},
   "outputs": [],
   "source": [
    "quality_pivot = train_df.pivot_table(index = \"OverallQual\", values='SalePrice', aggfunc=np.median)\n",
    "quality_pivot.plot(kind = 'bar')\n",
    "plt.xlabel('Overall Quality')\n",
    "plt.ylabel('SalePrice')"
   ]
  },
  {
   "cell_type": "code",
   "execution_count": null,
   "metadata": {},
   "outputs": [],
   "source": [
    "#Normalize the data\n",
    "train_df_norm = train_df.copy()\n",
    "train_df_norm['GrLivArea_log'] = np.log(train_df_norm['GrLivArea'])\n",
    "train_df_norm['SalePrice_log'] = np.log(train_df_norm['SalePrice'])\n",
    "plt.figure(figsize=(12,6))\n",
    "data = pd.concat([train_df_norm['GrLivArea_log'], train_df_norm['SalePrice_log']], axis = 1)\n",
    "sns.regplot(\n",
    "    data = data,\n",
    "    x = 'GrLivArea_log',\n",
    "    y='SalePrice_log', \n",
    "    scatter_kws={'alpha':0.5},\n",
    "    line_kws={'color':'red'}\n",
    ")\n",
    "plt.title('Log-Transformed Living Area vs. Sale Price')\n",
    "plt.xlabel('Log of Above Ground Living Area (square feet)')\n",
    "plt.ylabel('Log of Sale Price')\n",
    "plt.show()"
   ]
  },
  {
   "cell_type": "code",
   "execution_count": null,
   "metadata": {},
   "outputs": [],
   "source": [
    "#Unique values \n",
    "unique_counts = train_df.nunique()\n",
    "unique_counts"
   ]
  },
  {
   "cell_type": "code",
   "execution_count": 25,
   "metadata": {},
   "outputs": [],
   "source": [
    "#Finding irrelavant features\n"
   ]
  }
 ],
 "metadata": {
  "kernelspec": {
   "display_name": "Python 3",
   "language": "python",
   "name": "python3"
  },
  "language_info": {
   "codemirror_mode": {
    "name": "ipython",
    "version": 3
   },
   "file_extension": ".py",
   "mimetype": "text/x-python",
   "name": "python",
   "nbconvert_exporter": "python",
   "pygments_lexer": "ipython3",
   "version": "3.11.7"
  }
 },
 "nbformat": 4,
 "nbformat_minor": 2
}
