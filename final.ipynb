{
 "cells": [
  {
   "cell_type": "code",
   "execution_count": 1,
   "id": "initial_id",
   "metadata": {
    "ExecuteTime": {
     "end_time": "2024-11-11T06:01:23.011127Z",
     "start_time": "2024-11-11T06:01:21.848198Z"
    },
    "collapsed": true
   },
   "outputs": [],
   "source": [
    "from typing import Optional, Union, Any\n",
    "\n",
    "import missingno as msno\n",
    "import numpy as np\n",
    "import pandas as pd\n",
    "import seaborn as sb\n",
    "import seaborn as sns\n",
    "from matplotlib import pyplot as plt\n",
    "from sklearn.impute import KNNImputer, SimpleImputer"
   ]
  },
  {
   "cell_type": "markdown",
   "id": "4c18d364067beaaf",
   "metadata": {},
   "source": [
    "# Helper Functions <br>\n",
    "(We can put them in a separate file and import them, but for now, I just put them here)"
   ]
  },
  {
   "cell_type": "code",
   "execution_count": 2,
   "id": "8ddcb01b55021c86",
   "metadata": {
    "ExecuteTime": {
     "end_time": "2024-11-11T06:01:23.118429Z",
     "start_time": "2024-11-11T06:01:23.109045Z"
    }
   },
   "outputs": [],
   "source": [
    "def calculate_rule_support(df: pd.DataFrame, body_and_head_values: dict[str, str]) -> float:\n",
    "    \"\"\"\n",
    "    Calculates the support of the rule body -> head\n",
    "    \n",
    "    :param df: dataframe to calculate the support\n",
    "    :param body_and_head_values: dictionary of column names and values for the rule\n",
    "    :return: support of the rule\n",
    "    \"\"\"\n",
    "    no_rows = df.shape[0]\n",
    "    support = 0\n",
    "\n",
    "    for i in range(no_rows):\n",
    "        is_rule_satisfied = True\n",
    "        for column, value in body_and_head_values.items():\n",
    "            if df[column][i] != value:\n",
    "                is_rule_satisfied = False\n",
    "                break\n",
    "\n",
    "        if is_rule_satisfied:\n",
    "            support += 1\n",
    "\n",
    "    if no_rows == 0:\n",
    "        return 0\n",
    "\n",
    "    return support / no_rows\n",
    "\n",
    "\n",
    "def calculate_rule_confidence(df: pd.DataFrame, body_values: dict[str, str], head_values: dict[str, str]) -> float:\n",
    "    \"\"\"\n",
    "    Calculates the confidence of the rule body -> head\n",
    "    \n",
    "    :param df: dataframe to calculate the confidence\n",
    "    :param body_values: dictionary of column names and values for the body of the rule\n",
    "    :param head_values: dictionary of column names and values for the head of the rule\n",
    "    :return: confidence of the rule\n",
    "    \"\"\"\n",
    "    body_support = calculate_rule_support(df, body_values)\n",
    "    body_and_head_support = calculate_rule_support(df, {**body_values, **head_values})\n",
    "\n",
    "    if body_support == 0:\n",
    "        return 0\n",
    "\n",
    "    return body_and_head_support / body_support\n",
    "\n",
    "\n",
    "def calculate_rule_lift(df: pd.DataFrame, body_values: dict[str, str], head_values: dict[str, str]) -> float:\n",
    "    \"\"\"\n",
    "    Calculates the lift of the rule body -> head\n",
    "    \n",
    "    :param df: dataframe to calculate the lift\n",
    "    :param body_values: dictionary of column names and values for the body of the rule\n",
    "    :param head_values: dictionary of column names and values for the head of the rule\n",
    "    :return: lift of the rule\n",
    "    \"\"\"\n",
    "    body_support = calculate_rule_support(df, body_values)\n",
    "    head_support = calculate_rule_support(df, head_values)\n",
    "    body_and_head_support = calculate_rule_support(df, {**body_values, **head_values})\n",
    "\n",
    "    if body_support * head_support == 0:\n",
    "        return 0\n",
    "\n",
    "    return body_and_head_support / (body_support * head_support)\n",
    "\n",
    "\n",
    "def find_rule_info(df: pd.DataFrame, body_values: dict[str, str], head_values: dict[str, str]) -> dict[str, float]:\n",
    "    \"\"\"\n",
    "    Finds the support, confidence and lift of the rule body -> head\n",
    "    \n",
    "    :param df: dataframe to find the rule info\n",
    "    :param body_values: dictionary of column names and values for the body of the rule\n",
    "    :param head_values: dictionary of column names and values for the head of the rule\n",
    "    :return: dictionary of rule info\n",
    "    \"\"\"\n",
    "    rule_info = {'support': calculate_rule_support(df, {**body_values, **head_values}),\n",
    "                 'confidence': calculate_rule_confidence(df, body_values, head_values),\n",
    "                 'lift': calculate_rule_lift(df, body_values, head_values)}\n",
    "\n",
    "    return rule_info\n",
    "\n",
    "\n",
    "def find_every_1_to_1_rule(df: pd.DataFrame,\n",
    "                           numerical_columns: list[str],\n",
    "                           categorical_columns: list[str],\n",
    "                           head_column_name: str,\n",
    "                           body_column_name: Optional[str] = None,\n",
    "                           ) -> pd.DataFrame:\n",
    "    \"\"\"\n",
    "    Finds every 1 to 1 rule for the given column\n",
    "    \n",
    "    :param df: dataframe to find the rules\n",
    "               If there are any numerical columns they have to change as {column_name}_exists column \n",
    "                    to indicate that the value is missing or not (0 missing, 1 exists)\n",
    "               And if there is any NaN value in categorical columns, it should be filled with 'NaN'\n",
    "    :param numerical_columns: list of numerical columns in the dataframe\n",
    "    :param categorical_columns: list of categorical columns in the dataframe\n",
    "    :param head_column_name: column name to use as head of the rule\n",
    "    :param body_column_name: column name to use as body of the rule\n",
    "    :return: dataframe of rules\n",
    "    \"\"\"\n",
    "    if not head_column_name in df.columns:\n",
    "        raise ValueError(f\"Column {head_column_name} is not in the dataframe.\")\n",
    "    if body_column_name and not body_column_name in df.columns:\n",
    "        raise ValueError(f\"Column {body_column_name} is not in the dataframe.\")\n",
    "    if body_column_name and body_column_name == head_column_name:\n",
    "        raise ValueError(\"Body column and head column cannot be the same.\")\n",
    "    \n",
    "    df_exists = df.copy()\n",
    "    # just keep the columns that are in the numerical_columns and categorical_columns\n",
    "    df_exists = df_exists[numerical_columns + categorical_columns]\n",
    "\n",
    "    # for numerical columns create a new column to show that the value is missing or not, drop the original column\n",
    "    for column in numerical_columns:\n",
    "        df_exists[column] = df_exists[column].fillna(-1)\n",
    "        # change the values to -1 if the value is missing, 0 if the value is actually 0, 1 if the value is not missing\n",
    "        df_exists[column] = df_exists[column].apply(lambda x: 0 if x == 0 else -1 if x == -1 else 1)\n",
    "        \n",
    "    # for categorical columns fill NaN values with 'NaN'\n",
    "    for column in categorical_columns:\n",
    "        df_exists[column] = df_exists[column].fillna('NaN')        \n",
    "        \n",
    "    rules = pd.DataFrame(columns=['Body_Name', 'Body_Value', 'Head_Name', 'Head_Value', 'Support', 'Confidence', 'Lift'])\n",
    "    unique_values_in_head_column = df_exists[head_column_name].unique()\n",
    "\n",
    "    other_columns = df_exists.columns.tolist() if not body_column_name else [body_column_name]\n",
    "    other_columns.remove(head_column_name) if head_column_name in other_columns else None\n",
    "        \n",
    "    for other_column in other_columns:\n",
    "        \n",
    "        # select the unique values in the column\n",
    "        unique_values_in_body_column = df_exists[other_column].unique()\n",
    "\n",
    "        for other_value in unique_values_in_body_column:\n",
    "            body_values = {other_column: other_value}\n",
    "            for value in unique_values_in_head_column:\n",
    "                head_values = {head_column_name: value}\n",
    "                rule_info = find_rule_info(df_exists, body_values, head_values)\n",
    "                # if support is 0, then there is no need to add the rule\n",
    "                if rule_info['support'] > 0:\n",
    "                    rules.loc[rules.shape[0]] = [other_column, other_value, head_column_name, value, rule_info['support'], rule_info['confidence'], rule_info['lift']]\n",
    "    \n",
    "    # in body_value, and head_value columns, change -1 to NaN, 1 to Exists, 0 to Exists as 0 in rule_info\n",
    "    rules['Body_Value'] = rules['Body_Value'].apply(lambda x: 'NaN' if x == -1 else 'Exists' if x == 1 else 'Exists as 0' if x == 0 else x)\n",
    "    rules['Head_Value'] = rules['Head_Value'].apply(lambda x: 'NaN' if x == -1 else 'Exists' if x == 1 else 'Exists as 0' if x == 0 else x)\n",
    "    \n",
    "    return rules\n",
    "\n",
    "def create_numerical_imputer(df: pd.DataFrame,\n",
    "                             numerical_columns: list[str]) -> KNNImputer:\n",
    "    \"\"\"\n",
    "    Creates a KNN imputer for the numerical columns\n",
    "    \n",
    "    :param df: dataframe to create the imputer\n",
    "    :param numerical_columns: list of numerical columns in the dataframe\n",
    "    :return: KNN imputer for the numerical columns\n",
    "    \"\"\"\n",
    "    imputer = KNNImputer(n_neighbors=5, weights='distance')\n",
    "    imputer.fit(df[numerical_columns])\n",
    "    \n",
    "    return imputer\n",
    "\n",
    "\n",
    "def create_categorical_imputer(df: pd.DataFrame,\n",
    "                               categorical_columns: list[str]) -> object:\n",
    "    \"\"\"\n",
    "    Creates a Naive Bayes imputer for the categorical columns\n",
    "    \n",
    "    :param df: dataframe to create the imputer\n",
    "    :param categorical_columns: list of categorical columns in the dataframe\n",
    "    :return: Naive Bayes imputer for the categorical columns\n",
    "    \"\"\"\n",
    "    imputer = SimpleImputer(strategy='most_frequent')\n",
    "    imputer.fit(df[categorical_columns])\n",
    "    \n",
    "    return imputer\n",
    "\n",
    "# IMPORTANT: I faced with lots of errors when I try to use the imputers, so I just put mean for numerical columns and most frequent value for categorical columns for now\n",
    "def imputation_of_missing_values_in_row(row: pd.Series,\n",
    "                                        train_data: pd.DataFrame,\n",
    "                                        numerical_columns: list[str],\n",
    "                                        categorical_columns: list[str],\n",
    "                                        allowed_nan_columns: list[str],\n",
    "                                        numerical_imputer: Any,\n",
    "                                        categorical_imputer: Any) -> pd.Series:\n",
    "    \"\"\"\n",
    "    Imputes the missing values in the given row\n",
    "    \n",
    "    :param row: row to impute the missing values\n",
    "    :param train_data: training data to use for imputation\n",
    "    :param numerical_columns: list of numerical columns in the dataframe\n",
    "    :param categorical_columns: list of categorical columns in the dataframe\n",
    "    :param allowed_nan_columns: list of columns that can have NaN values\n",
    "    :param numerical_imputer: imputer for numerical columns\n",
    "    :param categorical_imputer: imputer for categorical columns\n",
    "    :return: imputed row\n",
    "    \"\"\"\n",
    "    row_copy = row.copy()\n",
    "    raw_columns = row_copy.index.tolist()  # get the columns of the row\n",
    "    \n",
    "    # change the NaN values in the columns that are not in the allowed_nan_columns to 'NaN'\n",
    "    for column in allowed_nan_columns:\n",
    "        if pd.isna(row_copy[column]):\n",
    "            row_copy[column] = 'NaN'\n",
    "    \n",
    "    for column in raw_columns:\n",
    "        value_in_column = row_copy[column]\n",
    "        if pd.isna(value_in_column):\n",
    "    \n",
    "            # if the column is 'GarageYrBlt' and 'GarageCond' is 'NaN', then fill the missing value with 0\n",
    "            if column == 'GarageYrBlt' and row_copy['GarageCond'] == 'NaN':\n",
    "                row_copy[column] = 0\n",
    "                \n",
    "            # if the column is 'MasVnrArea' and 'MasVnrType' is 'NaN', then fill the missing value with 0\n",
    "            elif column == 'MasVnrArea' and row_copy['MasVnrType'] == 'NaN':\n",
    "                row_copy[column] = 0\n",
    "                \n",
    "            # if the column is 'Electrical', then fill the missing value with the most frequent value\n",
    "            elif column == 'Electrical':\n",
    "                row_copy[column] = 'SBrkr'\n",
    "                \n",
    "            # if the column is in the numerical columns, then fill the missing value with the predicted value by the numerical imputer\n",
    "            elif column in numerical_columns:\n",
    "                # row_copy[column] = numerical_imputer.fit_transform(row_copy[column])\n",
    "                # just put mean of TRAIN_DATA for now\n",
    "                row_copy[column] = train_data[column].mean()\n",
    "                \n",
    "            # if the column is in the categorical columns, then fill the missing value with the predicted value by the categorical imputer\n",
    "            elif column in categorical_columns:\n",
    "                # row_copy[column] = categorical_imputer.fit_transform(row_copy[column])\n",
    "                # just put most frequent value of TRAIN_DATA for now\n",
    "                row_copy[column] = train_data[column].mode()[0]\n",
    "                \n",
    "            else:\n",
    "                raise ValueError(f\"Column {column} is not in the numerical columns or categorical columns\")\n",
    "                \n",
    "    return row_copy"
   ]
  },
  {
   "cell_type": "markdown",
   "id": "cbd4eaca556a4a9b",
   "metadata": {},
   "source": [
    "# Read Data from CSV Files"
   ]
  },
  {
   "cell_type": "code",
   "execution_count": 3,
   "id": "604e3c1f7fbe3220",
   "metadata": {
    "ExecuteTime": {
     "end_time": "2024-11-11T06:01:23.509773Z",
     "start_time": "2024-11-11T06:01:23.478580Z"
    }
   },
   "outputs": [
    {
     "name": "stdout",
     "output_type": "stream",
     "text": [
      "Train data shape: (1460, 81)\n",
      "Test data shape: (1459, 80)\n",
      "Whole data shape: (2919, 81)\n"
     ]
    }
   ],
   "source": [
    "TRAIN_DATA = pd.read_csv('data/train.csv')\n",
    "TEST_DATA = pd.read_csv('data/test.csv')\n",
    "WHOLE_DATA = pd.concat([TRAIN_DATA, TEST_DATA], ignore_index=True)\n",
    "\n",
    "print(f\"Train data shape: {TRAIN_DATA.shape}\")\n",
    "print(f\"Test data shape: {TEST_DATA.shape}\")\n",
    "print(f\"Whole data shape: {WHOLE_DATA.shape}\")"
   ]
  },
  {
   "cell_type": "code",
   "execution_count": 4,
   "id": "3a391495675dc150",
   "metadata": {
    "ExecuteTime": {
     "end_time": "2024-11-11T06:01:23.710784Z",
     "start_time": "2024-11-11T06:01:23.699902Z"
    }
   },
   "outputs": [
    {
     "name": "stdout",
     "output_type": "stream",
     "text": [
      "<class 'pandas.core.frame.DataFrame'>\n",
      "RangeIndex: 2919 entries, 0 to 2918\n",
      "Data columns (total 81 columns):\n",
      " #   Column         Non-Null Count  Dtype  \n",
      "---  ------         --------------  -----  \n",
      " 0   Id             2919 non-null   int64  \n",
      " 1   MSSubClass     2919 non-null   int64  \n",
      " 2   MSZoning       2915 non-null   object \n",
      " 3   LotFrontage    2433 non-null   float64\n",
      " 4   LotArea        2919 non-null   int64  \n",
      " 5   Street         2919 non-null   object \n",
      " 6   Alley          198 non-null    object \n",
      " 7   LotShape       2919 non-null   object \n",
      " 8   LandContour    2919 non-null   object \n",
      " 9   Utilities      2917 non-null   object \n",
      " 10  LotConfig      2919 non-null   object \n",
      " 11  LandSlope      2919 non-null   object \n",
      " 12  Neighborhood   2919 non-null   object \n",
      " 13  Condition1     2919 non-null   object \n",
      " 14  Condition2     2919 non-null   object \n",
      " 15  BldgType       2919 non-null   object \n",
      " 16  HouseStyle     2919 non-null   object \n",
      " 17  OverallQual    2919 non-null   int64  \n",
      " 18  OverallCond    2919 non-null   int64  \n",
      " 19  YearBuilt      2919 non-null   int64  \n",
      " 20  YearRemodAdd   2919 non-null   int64  \n",
      " 21  RoofStyle      2919 non-null   object \n",
      " 22  RoofMatl       2919 non-null   object \n",
      " 23  Exterior1st    2918 non-null   object \n",
      " 24  Exterior2nd    2918 non-null   object \n",
      " 25  MasVnrType     1153 non-null   object \n",
      " 26  MasVnrArea     2896 non-null   float64\n",
      " 27  ExterQual      2919 non-null   object \n",
      " 28  ExterCond      2919 non-null   object \n",
      " 29  Foundation     2919 non-null   object \n",
      " 30  BsmtQual       2838 non-null   object \n",
      " 31  BsmtCond       2837 non-null   object \n",
      " 32  BsmtExposure   2837 non-null   object \n",
      " 33  BsmtFinType1   2840 non-null   object \n",
      " 34  BsmtFinSF1     2918 non-null   float64\n",
      " 35  BsmtFinType2   2839 non-null   object \n",
      " 36  BsmtFinSF2     2918 non-null   float64\n",
      " 37  BsmtUnfSF      2918 non-null   float64\n",
      " 38  TotalBsmtSF    2918 non-null   float64\n",
      " 39  Heating        2919 non-null   object \n",
      " 40  HeatingQC      2919 non-null   object \n",
      " 41  CentralAir     2919 non-null   object \n",
      " 42  Electrical     2918 non-null   object \n",
      " 43  1stFlrSF       2919 non-null   int64  \n",
      " 44  2ndFlrSF       2919 non-null   int64  \n",
      " 45  LowQualFinSF   2919 non-null   int64  \n",
      " 46  GrLivArea      2919 non-null   int64  \n",
      " 47  BsmtFullBath   2917 non-null   float64\n",
      " 48  BsmtHalfBath   2917 non-null   float64\n",
      " 49  FullBath       2919 non-null   int64  \n",
      " 50  HalfBath       2919 non-null   int64  \n",
      " 51  BedroomAbvGr   2919 non-null   int64  \n",
      " 52  KitchenAbvGr   2919 non-null   int64  \n",
      " 53  KitchenQual    2918 non-null   object \n",
      " 54  TotRmsAbvGrd   2919 non-null   int64  \n",
      " 55  Functional     2917 non-null   object \n",
      " 56  Fireplaces     2919 non-null   int64  \n",
      " 57  FireplaceQu    1499 non-null   object \n",
      " 58  GarageType     2762 non-null   object \n",
      " 59  GarageYrBlt    2760 non-null   float64\n",
      " 60  GarageFinish   2760 non-null   object \n",
      " 61  GarageCars     2918 non-null   float64\n",
      " 62  GarageArea     2918 non-null   float64\n",
      " 63  GarageQual     2760 non-null   object \n",
      " 64  GarageCond     2760 non-null   object \n",
      " 65  PavedDrive     2919 non-null   object \n",
      " 66  WoodDeckSF     2919 non-null   int64  \n",
      " 67  OpenPorchSF    2919 non-null   int64  \n",
      " 68  EnclosedPorch  2919 non-null   int64  \n",
      " 69  3SsnPorch      2919 non-null   int64  \n",
      " 70  ScreenPorch    2919 non-null   int64  \n",
      " 71  PoolArea       2919 non-null   int64  \n",
      " 72  PoolQC         10 non-null     object \n",
      " 73  Fence          571 non-null    object \n",
      " 74  MiscFeature    105 non-null    object \n",
      " 75  MiscVal        2919 non-null   int64  \n",
      " 76  MoSold         2919 non-null   int64  \n",
      " 77  YrSold         2919 non-null   int64  \n",
      " 78  SaleType       2918 non-null   object \n",
      " 79  SaleCondition  2919 non-null   object \n",
      " 80  SalePrice      1460 non-null   float64\n",
      "dtypes: float64(12), int64(26), object(43)\n",
      "memory usage: 1.8+ MB\n"
     ]
    }
   ],
   "source": [
    "WHOLE_DATA.info()"
   ]
  },
  {
   "cell_type": "markdown",
   "id": "5bcfd8b599c34e25",
   "metadata": {},
   "source": [
    "### Finding numerical feature columns and categorical feature columns\n",
    "- For Target column, we know that it is SalePrice\n",
    "- For numerical columns, we have to remove Id column because it is not a feature, Target column because it is the target, and MSSubClass column because it is a categorical column (we know that from the data description)\n",
    "- For categorical columns, we have to add MSSubClass column"
   ]
  },
  {
   "cell_type": "code",
   "execution_count": 5,
   "id": "afe067d3fc94a799",
   "metadata": {
    "ExecuteTime": {
     "end_time": "2024-11-11T06:01:24.001944Z",
     "start_time": "2024-11-11T06:01:23.993908Z"
    }
   },
   "outputs": [
    {
     "name": "stdout",
     "output_type": "stream",
     "text": [
      "Target column: SalePrice \n",
      "\n",
      "Numerical columns (35): \n",
      "['LotFrontage', 'LotArea', 'OverallQual', 'OverallCond', 'YearBuilt', 'YearRemodAdd', 'MasVnrArea', 'BsmtFinSF1', 'BsmtFinSF2', 'BsmtUnfSF', 'TotalBsmtSF', '1stFlrSF', '2ndFlrSF', 'LowQualFinSF', 'GrLivArea', 'BsmtFullBath', 'BsmtHalfBath', 'FullBath', 'HalfBath', 'BedroomAbvGr', 'KitchenAbvGr', 'TotRmsAbvGrd', 'Fireplaces', 'GarageYrBlt', 'GarageCars', 'GarageArea', 'WoodDeckSF', 'OpenPorchSF', 'EnclosedPorch', '3SsnPorch', 'ScreenPorch', 'PoolArea', 'MiscVal', 'MoSold', 'YrSold'] \n",
      "\n",
      "Categorical columns (44): \n",
      "['MSSubClass', 'MSZoning', 'Street', 'Alley', 'LotShape', 'LandContour', 'Utilities', 'LotConfig', 'LandSlope', 'Neighborhood', 'Condition1', 'Condition2', 'BldgType', 'HouseStyle', 'RoofStyle', 'RoofMatl', 'Exterior1st', 'Exterior2nd', 'MasVnrType', 'ExterQual', 'ExterCond', 'Foundation', 'BsmtQual', 'BsmtCond', 'BsmtExposure', 'BsmtFinType1', 'BsmtFinType2', 'Heating', 'HeatingQC', 'CentralAir', 'Electrical', 'KitchenQual', 'Functional', 'FireplaceQu', 'GarageType', 'GarageFinish', 'GarageQual', 'GarageCond', 'PavedDrive', 'PoolQC', 'Fence', 'MiscFeature', 'SaleType', 'SaleCondition']\n"
     ]
    }
   ],
   "source": [
    "# find numerıcal columns and categorical columns\n",
    "TARGET_COLUMN = 'SalePrice'\n",
    "\n",
    "TRAIN_DATA['MSSubClass'] = TRAIN_DATA['MSSubClass'].astype(str)  # change MSSubClass data type to string because it is categorical\n",
    "TEST_DATA['MSSubClass'] = TEST_DATA['MSSubClass'].astype(str)  # change MSSubClass data type to string because it is categorical\n",
    "WHOLE_DATA['MSSubClass'] = WHOLE_DATA['MSSubClass'].astype(str)  # change MSSubClass data type to string because it is categorical\n",
    "\n",
    "NUMERICAL_COLUMNS = WHOLE_DATA.select_dtypes(include=['int64', 'float64']).columns.tolist()\n",
    "NUMERICAL_COLUMNS.remove(TARGET_COLUMN)\n",
    "NUMERICAL_COLUMNS.remove('Id')  # remove Id column because it is not a feature\n",
    "\n",
    "CATEGORICAL_COLUMNS = WHOLE_DATA.select_dtypes(include=['object']).columns.tolist()\n",
    "\n",
    "print(f\"Target column: {TARGET_COLUMN} \\n\")\n",
    "print(f\"Numerical columns ({len(NUMERICAL_COLUMNS)}): \\n{NUMERICAL_COLUMNS} \\n\")\n",
    "print(f\"Categorical columns ({len(CATEGORICAL_COLUMNS)}): \\n{CATEGORICAL_COLUMNS}\")"
   ]
  },
  {
   "cell_type": "markdown",
   "id": "7c488314abc78e79",
   "metadata": {},
   "source": [
    "# Detection and Imputation of Missing Values"
   ]
  },
  {
   "cell_type": "code",
   "execution_count": 6,
   "id": "e14978003cb84380",
   "metadata": {
    "ExecuteTime": {
     "end_time": "2024-11-11T06:01:24.305303Z",
     "start_time": "2024-11-11T06:01:24.274217Z"
    }
   },
   "outputs": [
    {
     "data": {
      "text/html": [
       "<div>\n",
       "<style scoped>\n",
       "    .dataframe tbody tr th:only-of-type {\n",
       "        vertical-align: middle;\n",
       "    }\n",
       "\n",
       "    .dataframe tbody tr th {\n",
       "        vertical-align: top;\n",
       "    }\n",
       "\n",
       "    .dataframe thead th {\n",
       "        text-align: right;\n",
       "    }\n",
       "</style>\n",
       "<table border=\"1\" class=\"dataframe\">\n",
       "  <thead>\n",
       "    <tr style=\"text-align: right;\">\n",
       "      <th></th>\n",
       "      <th>Type</th>\n",
       "      <th>Missing Data Location</th>\n",
       "      <th>Total</th>\n",
       "      <th>Percent</th>\n",
       "    </tr>\n",
       "  </thead>\n",
       "  <tbody>\n",
       "    <tr>\n",
       "      <th>LotFrontage</th>\n",
       "      <td>Numerical</td>\n",
       "      <td>Train + Test</td>\n",
       "      <td>486.0</td>\n",
       "      <td>0.166495</td>\n",
       "    </tr>\n",
       "    <tr>\n",
       "      <th>GarageYrBlt</th>\n",
       "      <td>Numerical</td>\n",
       "      <td>Train + Test</td>\n",
       "      <td>159.0</td>\n",
       "      <td>0.054471</td>\n",
       "    </tr>\n",
       "    <tr>\n",
       "      <th>MasVnrArea</th>\n",
       "      <td>Numerical</td>\n",
       "      <td>Train + Test</td>\n",
       "      <td>23.0</td>\n",
       "      <td>0.007879</td>\n",
       "    </tr>\n",
       "    <tr>\n",
       "      <th>MSZoning</th>\n",
       "      <td>Categorical</td>\n",
       "      <td>Test</td>\n",
       "      <td>4.0</td>\n",
       "      <td>0.001370</td>\n",
       "    </tr>\n",
       "    <tr>\n",
       "      <th>BsmtHalfBath</th>\n",
       "      <td>Numerical</td>\n",
       "      <td>Test</td>\n",
       "      <td>2.0</td>\n",
       "      <td>0.000685</td>\n",
       "    </tr>\n",
       "    <tr>\n",
       "      <th>Utilities</th>\n",
       "      <td>Categorical</td>\n",
       "      <td>Test</td>\n",
       "      <td>2.0</td>\n",
       "      <td>0.000685</td>\n",
       "    </tr>\n",
       "    <tr>\n",
       "      <th>BsmtFullBath</th>\n",
       "      <td>Numerical</td>\n",
       "      <td>Test</td>\n",
       "      <td>2.0</td>\n",
       "      <td>0.000685</td>\n",
       "    </tr>\n",
       "    <tr>\n",
       "      <th>Functional</th>\n",
       "      <td>Categorical</td>\n",
       "      <td>Test</td>\n",
       "      <td>2.0</td>\n",
       "      <td>0.000685</td>\n",
       "    </tr>\n",
       "    <tr>\n",
       "      <th>TotalBsmtSF</th>\n",
       "      <td>Numerical</td>\n",
       "      <td>Test</td>\n",
       "      <td>1.0</td>\n",
       "      <td>0.000343</td>\n",
       "    </tr>\n",
       "    <tr>\n",
       "      <th>BsmtFinSF1</th>\n",
       "      <td>Numerical</td>\n",
       "      <td>Test</td>\n",
       "      <td>1.0</td>\n",
       "      <td>0.000343</td>\n",
       "    </tr>\n",
       "    <tr>\n",
       "      <th>SaleType</th>\n",
       "      <td>Categorical</td>\n",
       "      <td>Test</td>\n",
       "      <td>1.0</td>\n",
       "      <td>0.000343</td>\n",
       "    </tr>\n",
       "    <tr>\n",
       "      <th>BsmtFinSF2</th>\n",
       "      <td>Numerical</td>\n",
       "      <td>Test</td>\n",
       "      <td>1.0</td>\n",
       "      <td>0.000343</td>\n",
       "    </tr>\n",
       "    <tr>\n",
       "      <th>GarageCars</th>\n",
       "      <td>Numerical</td>\n",
       "      <td>Test</td>\n",
       "      <td>1.0</td>\n",
       "      <td>0.000343</td>\n",
       "    </tr>\n",
       "    <tr>\n",
       "      <th>Exterior2nd</th>\n",
       "      <td>Categorical</td>\n",
       "      <td>Test</td>\n",
       "      <td>1.0</td>\n",
       "      <td>0.000343</td>\n",
       "    </tr>\n",
       "    <tr>\n",
       "      <th>Exterior1st</th>\n",
       "      <td>Categorical</td>\n",
       "      <td>Test</td>\n",
       "      <td>1.0</td>\n",
       "      <td>0.000343</td>\n",
       "    </tr>\n",
       "    <tr>\n",
       "      <th>GarageArea</th>\n",
       "      <td>Numerical</td>\n",
       "      <td>Test</td>\n",
       "      <td>1.0</td>\n",
       "      <td>0.000343</td>\n",
       "    </tr>\n",
       "    <tr>\n",
       "      <th>KitchenQual</th>\n",
       "      <td>Categorical</td>\n",
       "      <td>Test</td>\n",
       "      <td>1.0</td>\n",
       "      <td>0.000343</td>\n",
       "    </tr>\n",
       "    <tr>\n",
       "      <th>BsmtUnfSF</th>\n",
       "      <td>Numerical</td>\n",
       "      <td>Test</td>\n",
       "      <td>1.0</td>\n",
       "      <td>0.000343</td>\n",
       "    </tr>\n",
       "    <tr>\n",
       "      <th>Electrical</th>\n",
       "      <td>Categorical</td>\n",
       "      <td>Train</td>\n",
       "      <td>1.0</td>\n",
       "      <td>0.000343</td>\n",
       "    </tr>\n",
       "  </tbody>\n",
       "</table>\n",
       "</div>"
      ],
      "text/plain": [
       "                     Type Missing Data Location  Total   Percent\n",
       "LotFrontage     Numerical          Train + Test  486.0  0.166495\n",
       "GarageYrBlt     Numerical          Train + Test  159.0  0.054471\n",
       "MasVnrArea      Numerical          Train + Test   23.0  0.007879\n",
       "MSZoning      Categorical                  Test    4.0  0.001370\n",
       "BsmtHalfBath    Numerical                  Test    2.0  0.000685\n",
       "Utilities     Categorical                  Test    2.0  0.000685\n",
       "BsmtFullBath    Numerical                  Test    2.0  0.000685\n",
       "Functional    Categorical                  Test    2.0  0.000685\n",
       "TotalBsmtSF     Numerical                  Test    1.0  0.000343\n",
       "BsmtFinSF1      Numerical                  Test    1.0  0.000343\n",
       "SaleType      Categorical                  Test    1.0  0.000343\n",
       "BsmtFinSF2      Numerical                  Test    1.0  0.000343\n",
       "GarageCars      Numerical                  Test    1.0  0.000343\n",
       "Exterior2nd   Categorical                  Test    1.0  0.000343\n",
       "Exterior1st   Categorical                  Test    1.0  0.000343\n",
       "GarageArea      Numerical                  Test    1.0  0.000343\n",
       "KitchenQual   Categorical                  Test    1.0  0.000343\n",
       "BsmtUnfSF       Numerical                  Test    1.0  0.000343\n",
       "Electrical    Categorical                 Train    1.0  0.000343"
      ]
     },
     "execution_count": 6,
     "metadata": {},
     "output_type": "execute_result"
    }
   ],
   "source": [
    "DATA_FRAME = WHOLE_DATA.copy()\n",
    "DATA_FRAME.drop(columns=[TARGET_COLUMN, 'Id'], inplace=True)\n",
    "\n",
    "MISSING_DATA_INFO = pd.concat([DATA_FRAME.isnull().sum().sort_values(ascending = False),\n",
    "                              (DATA_FRAME.isnull().sum()/WHOLE_DATA.isnull().count()).sort_values(ascending = False),   \n",
    "                              ], axis = 1, keys = ['Total', 'Percent'])\n",
    "# add also that the column is categorical or numerical to the first column\n",
    "MISSING_DATA_INFO['Type'] = 'Numerical'\n",
    "MISSING_DATA_INFO.loc[CATEGORICAL_COLUMNS, 'Type'] = 'Categorical'\n",
    "\n",
    "# drop the rows that have no missing values\n",
    "MISSING_DATA_INFO = MISSING_DATA_INFO[MISSING_DATA_INFO['Total'] > 0]\n",
    "\n",
    "# also add a column that shows the where is the missing value in Train or Test data or both\n",
    "MISSING_DATA_INFO['Missing Data Location'] = 'Train + Test'\n",
    "for COLUMN in MISSING_DATA_INFO.index:\n",
    "    if TRAIN_DATA[COLUMN].isnull().sum() == 0:\n",
    "        MISSING_DATA_INFO.loc[COLUMN, 'Missing Data Location'] = 'Test'\n",
    "    elif TEST_DATA[COLUMN].isnull().sum() == 0:\n",
    "        MISSING_DATA_INFO.loc[COLUMN, 'Missing Data Location'] = 'Train'\n",
    "        \n",
    "# As we see from the data description, some categorical columns can have NaN values, but they are not considered as missing values. We need to convert them to string 'NaN' to use them in the algorithms.\n",
    "ALLOWED_NAN_COLUMNS = ['Alley', 'MasVnrType', 'BsmtQual', 'BsmtCond', 'BsmtExposure', 'BsmtFinType1',\n",
    "                       'BsmtFinType2', 'FireplaceQu', 'GarageType', 'GarageFinish',\n",
    "                       'GarageQual', 'GarageCond', 'PoolQC', 'Fence', 'MiscFeature']\n",
    "\n",
    "# change NaN values in the columns that are not in the ALLOWED_NAN_COLUMNS to 'NaN', and drop the rows from MISSING_DATA_INFO\n",
    "for COLUMN in ALLOWED_NAN_COLUMNS:\n",
    "    MISSING_DATA_INFO.drop(index=COLUMN, inplace=True)\n",
    "    DATA_FRAME[COLUMN] = DATA_FRAME[COLUMN].fillna('NaN')\n",
    "        \n",
    "# reorder the columns\n",
    "MISSING_DATA_INFO = MISSING_DATA_INFO[['Type', 'Missing Data Location', 'Total', 'Percent']]\n",
    "        \n",
    "MISSING_DATA_INFO"
   ]
  },
  {
   "cell_type": "markdown",
   "id": "e0387b22dbcba6ff",
   "metadata": {},
   "source": [
    "## 1- Inspection of Correlation Between Missing Values\n",
    "(For this inspection, we only use training data because using test data to come up with a strategy to fill missing values is not a fair-play)"
   ]
  },
  {
   "cell_type": "code",
   "execution_count": 7,
   "id": "81c433e5f0677ff7",
   "metadata": {
    "ExecuteTime": {
     "end_time": "2024-11-11T06:01:24.574383Z",
     "start_time": "2024-11-11T06:01:24.570930Z"
    }
   },
   "outputs": [],
   "source": [
    "def correlation_matrix_for_missing_values(df: pd.DataFrame) -> pd.DataFrame:\n",
    "    \"\"\"\n",
    "    Finds the correlation matrix of the dataframe for the missing values\n",
    "    \n",
    "    :param df: dataframe\n",
    "    :return: correlation matrix of the dataframe\n",
    "    \"\"\"\n",
    "    df_copy = df.copy()\n",
    "    \n",
    "    df_copy.replace(pd.NA, None, inplace=True)\n",
    "    df_copy.replace('NaN', None, inplace=True)\n",
    "    \n",
    "    heatmap_plot = msno.heatmap(df_copy)\n",
    "    plt.title('Correlation Between Missing Values', fontsize=30)\n",
    "    \n",
    "    return heatmap_plot    "
   ]
  },
  {
   "cell_type": "code",
   "execution_count": 9,
   "id": "5da43b6b65107a7f",
   "metadata": {
    "ExecuteTime": {
     "end_time": "2024-11-11T06:01:25.068847Z",
     "start_time": "2024-11-11T06:01:24.677189Z"
    }
   },
   "outputs": [
    {
     "name": "stderr",
     "output_type": "stream",
     "text": [
      "/Applications/anaconda3/lib/python3.11/site-packages/seaborn/matrix.py:260: FutureWarning: Format strings passed to MaskedConstant are ignored, but in future may error or produce different behavior\n",
      "  annotation = (\"{:\" + self.fmt + \"}\").format(val)\n"
     ]
    },
    {
     "ename": "ValueError",
     "evalue": "could not convert string to float: '--'",
     "output_type": "error",
     "traceback": [
      "\u001b[0;31m---------------------------------------------------------------------------\u001b[0m",
      "\u001b[0;31mValueError\u001b[0m                                Traceback (most recent call last)",
      "Cell \u001b[0;32mIn[9], line 1\u001b[0m\n\u001b[0;32m----> 1\u001b[0m correlation_matrix_for_missing_values(TRAIN_DATA)\n\u001b[1;32m      2\u001b[0m plt\u001b[38;5;241m.\u001b[39mshow()\n",
      "Cell \u001b[0;32mIn[7], line 13\u001b[0m, in \u001b[0;36mcorrelation_matrix_for_missing_values\u001b[0;34m(df)\u001b[0m\n\u001b[1;32m     10\u001b[0m df_copy\u001b[38;5;241m.\u001b[39mreplace(pd\u001b[38;5;241m.\u001b[39mNA, \u001b[38;5;28;01mNone\u001b[39;00m, inplace\u001b[38;5;241m=\u001b[39m\u001b[38;5;28;01mTrue\u001b[39;00m)\n\u001b[1;32m     11\u001b[0m df_copy\u001b[38;5;241m.\u001b[39mreplace(\u001b[38;5;124m'\u001b[39m\u001b[38;5;124mNaN\u001b[39m\u001b[38;5;124m'\u001b[39m, \u001b[38;5;28;01mNone\u001b[39;00m, inplace\u001b[38;5;241m=\u001b[39m\u001b[38;5;28;01mTrue\u001b[39;00m)\n\u001b[0;32m---> 13\u001b[0m heatmap_plot \u001b[38;5;241m=\u001b[39m msno\u001b[38;5;241m.\u001b[39mheatmap(df_copy)\n\u001b[1;32m     14\u001b[0m plt\u001b[38;5;241m.\u001b[39mtitle(\u001b[38;5;124m'\u001b[39m\u001b[38;5;124mCorrelation Between Missing Values\u001b[39m\u001b[38;5;124m'\u001b[39m, fontsize\u001b[38;5;241m=\u001b[39m\u001b[38;5;241m30\u001b[39m)\n\u001b[1;32m     16\u001b[0m \u001b[38;5;28;01mreturn\u001b[39;00m heatmap_plot\n",
      "File \u001b[0;32m/Applications/anaconda3/lib/python3.11/site-packages/missingno/missingno.py:398\u001b[0m, in \u001b[0;36mheatmap\u001b[0;34m(df, filter, n, p, sort, figsize, fontsize, labels, label_rotation, cmap, vmin, vmax, cbar, ax)\u001b[0m\n\u001b[1;32m    395\u001b[0m ax0\u001b[38;5;241m.\u001b[39mpatch\u001b[38;5;241m.\u001b[39mset_visible(\u001b[38;5;28;01mFalse\u001b[39;00m)\n\u001b[1;32m    397\u001b[0m \u001b[38;5;28;01mfor\u001b[39;00m text \u001b[38;5;129;01min\u001b[39;00m ax0\u001b[38;5;241m.\u001b[39mtexts:\n\u001b[0;32m--> 398\u001b[0m     t \u001b[38;5;241m=\u001b[39m \u001b[38;5;28mfloat\u001b[39m(text\u001b[38;5;241m.\u001b[39mget_text())\n\u001b[1;32m    399\u001b[0m     \u001b[38;5;28;01mif\u001b[39;00m \u001b[38;5;241m0.95\u001b[39m \u001b[38;5;241m<\u001b[39m\u001b[38;5;241m=\u001b[39m t \u001b[38;5;241m<\u001b[39m \u001b[38;5;241m1\u001b[39m:\n\u001b[1;32m    400\u001b[0m         text\u001b[38;5;241m.\u001b[39mset_text(\u001b[38;5;124m'\u001b[39m\u001b[38;5;124m<1\u001b[39m\u001b[38;5;124m'\u001b[39m)\n",
      "\u001b[0;31mValueError\u001b[0m: could not convert string to float: '--'"
     ]
    },
    {
     "data": {
      "image/png": "[encoded data removed]",
      "text/plain": [
       "<Figure size 2000x1200 with 2 Axes>"
      ]
     },
     "metadata": {},
     "output_type": "display_data"
    }
   ],
   "source": [
    "correlation_matrix_for_missing_values(TRAIN_DATA)\n",
    "plt.show()"
   ]
  },
  {
   "cell_type": "markdown",
   "id": "7b18858bb60e8622",
   "metadata": {},
   "source": [
    "#### So as we can see from the heatmap, there is a strong correlation missing values between some columns. We can use this information to fill the missing values in the columns."
   ]
  },
  {
   "cell_type": "markdown",
   "id": "fcc0cdda38530dec",
   "metadata": {},
   "source": [
    "#### As we can see from the table 'LotFrontage' has no significant correlation with other columns. So we will impute the missing values in this column in next steps. (We can fill the missing values with KNN imputer, mean imputer, etc.)"
   ]
  },
  {
   "cell_type": "markdown",
   "id": "24ae3456a304ba32",
   "metadata": {},
   "source": [
    "#### 'GarageYrBlt' has a strong correlation with other columns about Garage. So we can use this information to fill the missing values in this column."
   ]
  },
  {
   "cell_type": "code",
   "execution_count": 10,
   "id": "fbbd6a917f618249",
   "metadata": {
    "ExecuteTime": {
     "end_time": "2024-11-11T06:01:25.548415Z",
     "start_time": "2024-11-11T06:01:25.316947Z"
    }
   },
   "outputs": [
    {
     "data": {
      "text/html": [
       "<div>\n",
       "<style scoped>\n",
       "    .dataframe tbody tr th:only-of-type {\n",
       "        vertical-align: middle;\n",
       "    }\n",
       "\n",
       "    .dataframe tbody tr th {\n",
       "        vertical-align: top;\n",
       "    }\n",
       "\n",
       "    .dataframe thead th {\n",
       "        text-align: right;\n",
       "    }\n",
       "</style>\n",
       "<table border=\"1\" class=\"dataframe\">\n",
       "  <thead>\n",
       "    <tr style=\"text-align: right;\">\n",
       "      <th></th>\n",
       "      <th>Body_Name</th>\n",
       "      <th>Body_Value</th>\n",
       "      <th>Head_Name</th>\n",
       "      <th>Head_Value</th>\n",
       "      <th>Support</th>\n",
       "      <th>Confidence</th>\n",
       "      <th>Lift</th>\n",
       "    </tr>\n",
       "  </thead>\n",
       "  <tbody>\n",
       "    <tr>\n",
       "      <th>0</th>\n",
       "      <td>GarageCond</td>\n",
       "      <td>TA</td>\n",
       "      <td>GarageYrBlt</td>\n",
       "      <td>Exists</td>\n",
       "      <td>0.908219</td>\n",
       "      <td>1.0</td>\n",
       "      <td>1.058738</td>\n",
       "    </tr>\n",
       "    <tr>\n",
       "      <th>1</th>\n",
       "      <td>GarageCond</td>\n",
       "      <td>Fa</td>\n",
       "      <td>GarageYrBlt</td>\n",
       "      <td>Exists</td>\n",
       "      <td>0.023973</td>\n",
       "      <td>1.0</td>\n",
       "      <td>1.058738</td>\n",
       "    </tr>\n",
       "    <tr>\n",
       "      <th>2</th>\n",
       "      <td>GarageCond</td>\n",
       "      <td>NaN</td>\n",
       "      <td>GarageYrBlt</td>\n",
       "      <td>NaN</td>\n",
       "      <td>0.055479</td>\n",
       "      <td>1.0</td>\n",
       "      <td>18.024691</td>\n",
       "    </tr>\n",
       "    <tr>\n",
       "      <th>3</th>\n",
       "      <td>GarageCond</td>\n",
       "      <td>Gd</td>\n",
       "      <td>GarageYrBlt</td>\n",
       "      <td>Exists</td>\n",
       "      <td>0.006164</td>\n",
       "      <td>1.0</td>\n",
       "      <td>1.058738</td>\n",
       "    </tr>\n",
       "    <tr>\n",
       "      <th>4</th>\n",
       "      <td>GarageCond</td>\n",
       "      <td>Po</td>\n",
       "      <td>GarageYrBlt</td>\n",
       "      <td>Exists</td>\n",
       "      <td>0.004795</td>\n",
       "      <td>1.0</td>\n",
       "      <td>1.058738</td>\n",
       "    </tr>\n",
       "    <tr>\n",
       "      <th>5</th>\n",
       "      <td>GarageCond</td>\n",
       "      <td>Ex</td>\n",
       "      <td>GarageYrBlt</td>\n",
       "      <td>Exists</td>\n",
       "      <td>0.001370</td>\n",
       "      <td>1.0</td>\n",
       "      <td>1.058738</td>\n",
       "    </tr>\n",
       "  </tbody>\n",
       "</table>\n",
       "</div>"
      ],
      "text/plain": [
       "    Body_Name Body_Value    Head_Name Head_Value   Support  Confidence  \\\n",
       "0  GarageCond         TA  GarageYrBlt     Exists  0.908219         1.0   \n",
       "1  GarageCond         Fa  GarageYrBlt     Exists  0.023973         1.0   \n",
       "2  GarageCond        NaN  GarageYrBlt        NaN  0.055479         1.0   \n",
       "3  GarageCond         Gd  GarageYrBlt     Exists  0.006164         1.0   \n",
       "4  GarageCond         Po  GarageYrBlt     Exists  0.004795         1.0   \n",
       "5  GarageCond         Ex  GarageYrBlt     Exists  0.001370         1.0   \n",
       "\n",
       "        Lift  \n",
       "0   1.058738  \n",
       "1   1.058738  \n",
       "2  18.024691  \n",
       "3   1.058738  \n",
       "4   1.058738  \n",
       "5   1.058738  "
      ]
     },
     "execution_count": 10,
     "metadata": {},
     "output_type": "execute_result"
    }
   ],
   "source": [
    "# find the 1 to 1 rules for the column GarageYrBlt in the TRAIN_DATA\n",
    "find_every_1_to_1_rule(df=TRAIN_DATA,\n",
    "                       numerical_columns=NUMERICAL_COLUMNS,\n",
    "                       categorical_columns=CATEGORICAL_COLUMNS,\n",
    "                       head_column_name='GarageYrBlt',\n",
    "                       body_column_name='GarageCond').head(6)"
   ]
  },
  {
   "cell_type": "markdown",
   "id": "df0172619fc92e83",
   "metadata": {},
   "source": [
    "What we can understand is that if 'GarageCond' is 'NaN', then it is normal that 'GarageYrBlt' is 'NaN' (confidence of the rule GarageCond = NaN -> GarageYrBlt = NaN is 1 in train set). <br>\n",
    "However, we cannot leave it as 'NaN' so we choose to fill the missing values in 'GarageYrBlt' as 0 for train set. <br>\n",
    "If in the test set, 'GarageCond' is 'NaN' and 'GarageYrBlt' is also 'NaN', then we can fill the missing values in 'GarageYrBlt' as 0. Otherwise, we have to impute its value by using a strategy (like KNN imputer, mean imputer, etc.) because when 'GarageCond' is not 'NaN', 'GarageYrBlt' is not 'NaN' (confidence of the rule GarageCond != NaN -> GarageYrBlt != NaN is almost 1). <br>"
   ]
  },
  {
   "cell_type": "markdown",
   "id": "c5eaef468ffee3f6",
   "metadata": {},
   "source": [
    "#### 'MasVnrArea' has a strong correlation with 'MasVnrType'. So we can use this information to fill the missing values in this column."
   ]
  },
  {
   "cell_type": "code",
   "execution_count": 11,
   "id": "38e49f1d79bd3c66",
   "metadata": {
    "ExecuteTime": {
     "end_time": "2024-11-11T06:01:26.025817Z",
     "start_time": "2024-11-11T06:01:25.780108Z"
    }
   },
   "outputs": [
    {
     "data": {
      "text/html": [
       "<div>\n",
       "<style scoped>\n",
       "    .dataframe tbody tr th:only-of-type {\n",
       "        vertical-align: middle;\n",
       "    }\n",
       "\n",
       "    .dataframe tbody tr th {\n",
       "        vertical-align: top;\n",
       "    }\n",
       "\n",
       "    .dataframe thead th {\n",
       "        text-align: right;\n",
       "    }\n",
       "</style>\n",
       "<table border=\"1\" class=\"dataframe\">\n",
       "  <thead>\n",
       "    <tr style=\"text-align: right;\">\n",
       "      <th></th>\n",
       "      <th>Body_Name</th>\n",
       "      <th>Body_Value</th>\n",
       "      <th>Head_Name</th>\n",
       "      <th>Head_Value</th>\n",
       "      <th>Support</th>\n",
       "      <th>Confidence</th>\n",
       "      <th>Lift</th>\n",
       "    </tr>\n",
       "  </thead>\n",
       "  <tbody>\n",
       "    <tr>\n",
       "      <th>0</th>\n",
       "      <td>MasVnrType</td>\n",
       "      <td>BrkFace</td>\n",
       "      <td>MasVnrArea</td>\n",
       "      <td>Exists</td>\n",
       "      <td>0.304110</td>\n",
       "      <td>0.997753</td>\n",
       "      <td>2.464838</td>\n",
       "    </tr>\n",
       "    <tr>\n",
       "      <th>1</th>\n",
       "      <td>MasVnrType</td>\n",
       "      <td>BrkFace</td>\n",
       "      <td>MasVnrArea</td>\n",
       "      <td>Exists as 0</td>\n",
       "      <td>0.000685</td>\n",
       "      <td>0.002247</td>\n",
       "      <td>0.003811</td>\n",
       "    </tr>\n",
       "    <tr>\n",
       "      <th>2</th>\n",
       "      <td>MasVnrType</td>\n",
       "      <td>NaN</td>\n",
       "      <td>MasVnrArea</td>\n",
       "      <td>Exists</td>\n",
       "      <td>0.003425</td>\n",
       "      <td>0.005734</td>\n",
       "      <td>0.014165</td>\n",
       "    </tr>\n",
       "    <tr>\n",
       "      <th>3</th>\n",
       "      <td>MasVnrType</td>\n",
       "      <td>NaN</td>\n",
       "      <td>MasVnrArea</td>\n",
       "      <td>Exists as 0</td>\n",
       "      <td>0.588356</td>\n",
       "      <td>0.985092</td>\n",
       "      <td>1.670423</td>\n",
       "    </tr>\n",
       "    <tr>\n",
       "      <th>4</th>\n",
       "      <td>MasVnrType</td>\n",
       "      <td>NaN</td>\n",
       "      <td>MasVnrArea</td>\n",
       "      <td>NaN</td>\n",
       "      <td>0.005479</td>\n",
       "      <td>0.009174</td>\n",
       "      <td>1.674312</td>\n",
       "    </tr>\n",
       "    <tr>\n",
       "      <th>5</th>\n",
       "      <td>MasVnrType</td>\n",
       "      <td>Stone</td>\n",
       "      <td>MasVnrArea</td>\n",
       "      <td>Exists</td>\n",
       "      <td>0.086986</td>\n",
       "      <td>0.992188</td>\n",
       "      <td>2.451089</td>\n",
       "    </tr>\n",
       "    <tr>\n",
       "      <th>6</th>\n",
       "      <td>MasVnrType</td>\n",
       "      <td>Stone</td>\n",
       "      <td>MasVnrArea</td>\n",
       "      <td>Exists as 0</td>\n",
       "      <td>0.000685</td>\n",
       "      <td>0.007812</td>\n",
       "      <td>0.013248</td>\n",
       "    </tr>\n",
       "    <tr>\n",
       "      <th>7</th>\n",
       "      <td>MasVnrType</td>\n",
       "      <td>BrkCmn</td>\n",
       "      <td>MasVnrArea</td>\n",
       "      <td>Exists</td>\n",
       "      <td>0.010274</td>\n",
       "      <td>1.000000</td>\n",
       "      <td>2.470389</td>\n",
       "    </tr>\n",
       "  </tbody>\n",
       "</table>\n",
       "</div>"
      ],
      "text/plain": [
       "    Body_Name Body_Value   Head_Name   Head_Value   Support  Confidence  \\\n",
       "0  MasVnrType    BrkFace  MasVnrArea       Exists  0.304110    0.997753   \n",
       "1  MasVnrType    BrkFace  MasVnrArea  Exists as 0  0.000685    0.002247   \n",
       "2  MasVnrType        NaN  MasVnrArea       Exists  0.003425    0.005734   \n",
       "3  MasVnrType        NaN  MasVnrArea  Exists as 0  0.588356    0.985092   \n",
       "4  MasVnrType        NaN  MasVnrArea          NaN  0.005479    0.009174   \n",
       "5  MasVnrType      Stone  MasVnrArea       Exists  0.086986    0.992188   \n",
       "6  MasVnrType      Stone  MasVnrArea  Exists as 0  0.000685    0.007812   \n",
       "7  MasVnrType     BrkCmn  MasVnrArea       Exists  0.010274    1.000000   \n",
       "\n",
       "       Lift  \n",
       "0  2.464838  \n",
       "1  0.003811  \n",
       "2  0.014165  \n",
       "3  1.670423  \n",
       "4  1.674312  \n",
       "5  2.451089  \n",
       "6  0.013248  \n",
       "7  2.470389  "
      ]
     },
     "execution_count": 11,
     "metadata": {},
     "output_type": "execute_result"
    }
   ],
   "source": [
    "# find the 1 to 1 rules for the column MasVnrArea in the TRAIN_DATA\n",
    "find_every_1_to_1_rule(df=TRAIN_DATA,\n",
    "                       numerical_columns=NUMERICAL_COLUMNS,\n",
    "                       categorical_columns=CATEGORICAL_COLUMNS,\n",
    "                       head_column_name='MasVnrArea',\n",
    "                       body_column_name='MasVnrType').head(8)"
   ]
  },
  {
   "cell_type": "markdown",
   "id": "4e0dad1d252afb2c",
   "metadata": {},
   "source": [
    "What we can understand is that if 'MasVnrType' is 'NaN', then 'MasVnrArea' should be 0 (confidence of the rule MasVnrType = NaN -> MasVnrArea = 0 is almost 1). <br>\n",
    "We know that for train set, it is like that, but for test set, if 'MasVnrType' is not 'NaN' when 'MasVnrArea' is 'NaN', then we have to impute its value by using a strategy (like KNN imputer, mean imputer, etc.) because the confidence of the rules: <br>\n",
    "- MasVnrType = BrkFace -> MasVnrArea > 0 (confidence is almost 1)\n",
    "- MasVnrType = Stone -> MasVnrArea > 0 (confidence is almost 1)\n",
    "- MasVnrType = BrkCmn -> MasVnrArea > 0 (confidence is 1) \n"
   ]
  },
  {
   "cell_type": "markdown",
   "id": "a01f66fbe8c44aa3",
   "metadata": {},
   "source": [
    "#### 'Electrical' has no strong correlation with other columns. So we will impute the missing values in this column in next steps. (We can fill the missing values with the most frequent value)"
   ]
  },
  {
   "cell_type": "code",
   "execution_count": 12,
   "id": "6d7f2341ce48ec0d",
   "metadata": {
    "ExecuteTime": {
     "end_time": "2024-11-11T06:01:26.250761Z",
     "start_time": "2024-11-11T06:01:26.246959Z"
    }
   },
   "outputs": [
    {
     "name": "stdout",
     "output_type": "stream",
     "text": [
      "Most frequent value in 'Electrical' column: SBrkr\n"
     ]
    }
   ],
   "source": [
    "print(f\"Most frequent value in 'Electrical' column: {TRAIN_DATA['Electrical'].mode()[0]}\")"
   ]
  },
  {
   "cell_type": "markdown",
   "id": "40d0d2bbb09f76eb",
   "metadata": {},
   "source": [
    "## 2- Imputation of Missing Values"
   ]
  },
  {
   "cell_type": "code",
   "execution_count": 13,
   "id": "322b4788c7117a78",
   "metadata": {
    "ExecuteTime": {
     "end_time": "2024-11-11T06:01:26.529352Z",
     "start_time": "2024-11-11T06:01:26.518093Z"
    }
   },
   "outputs": [],
   "source": [
    "NUMERICAL_IMPUTER = create_numerical_imputer(TRAIN_DATA, NUMERICAL_COLUMNS)\n",
    "CATEGORICAL_IMPUTER = create_categorical_imputer(TRAIN_DATA, CATEGORICAL_COLUMNS)"
   ]
  },
  {
   "cell_type": "code",
   "execution_count": 14,
   "id": "c9b6842dad1ca81e",
   "metadata": {
    "ExecuteTime": {
     "end_time": "2024-11-11T06:01:26.832535Z",
     "start_time": "2024-11-11T06:01:26.649467Z"
    }
   },
   "outputs": [],
   "source": [
    "IMPUTED_TRAIN_DATA = TRAIN_DATA.copy()\n",
    "IMPUTED_TRAIN_DATA.drop(columns=['Id'], inplace=True)\n",
    "IMPUTED_TRAIN_DATA = IMPUTED_TRAIN_DATA.apply(lambda x: imputation_of_missing_values_in_row(x,\n",
    "                                                                                            IMPUTED_TRAIN_DATA,\n",
    "                                                                                            NUMERICAL_COLUMNS,\n",
    "                                                                                            CATEGORICAL_COLUMNS,\n",
    "                                                                                            ALLOWED_NAN_COLUMNS,\n",
    "                                                                                            NUMERICAL_IMPUTER,\n",
    "                                                                                            CATEGORICAL_IMPUTER), axis=1)"
   ]
  },
  {
   "cell_type": "code",
   "execution_count": 19,
   "id": "ae2c3f46",
   "metadata": {},
   "outputs": [],
   "source": [
    "IMPUTED_TRAIN_DATA.to_csv('data/imputed_train_data.csv', index = False)"
   ]
  },
  {
   "cell_type": "markdown",
   "id": "6c070dce5bac53bf",
   "metadata": {},
   "source": [
    "# Data Analysis and Visualization"
   ]
  },
  {
   "cell_type": "markdown",
   "id": "1a7fc9f9e4846857",
   "metadata": {},
   "source": [
    "### 1- Showing some distributions of the columns to understand the data better"
   ]
  },
  {
   "cell_type": "code",
   "execution_count": 16,
   "id": "b30071a84dbdc78b",
   "metadata": {
    "ExecuteTime": {
     "end_time": "2024-11-11T06:01:30.458947Z",
     "start_time": "2024-11-11T06:01:29.924421Z"
    }
   },
   "outputs": [
    {
     "name": "stderr",
     "output_type": "stream",
     "text": [
      "/Applications/anaconda3/lib/python3.11/site-packages/seaborn/_oldcore.py:1119: FutureWarning: use_inf_as_na option is deprecated and will be removed in a future version. Convert inf values to NaN before operating instead.\n",
      "  with pd.option_context('mode.use_inf_as_na', True):\n",
      "/Applications/anaconda3/lib/python3.11/site-packages/seaborn/_oldcore.py:1119: FutureWarning: use_inf_as_na option is deprecated and will be removed in a future version. Convert inf values to NaN before operating instead.\n",
      "  with pd.option_context('mode.use_inf_as_na', True):\n"
     ]
    },
    {
     "data": {
      "image/png": "[encoded data removed]",
      "text/plain": [
       "<Figure size 1800x600 with 2 Axes>"
      ]
     },
     "metadata": {},
     "output_type": "display_data"
    },
    {
     "data": {
      "text/html": [
       "<div>\n",
       "<style scoped>\n",
       "    .dataframe tbody tr th:only-of-type {\n",
       "        vertical-align: middle;\n",
       "    }\n",
       "\n",
       "    .dataframe tbody tr th {\n",
       "        vertical-align: top;\n",
       "    }\n",
       "\n",
       "    .dataframe thead th {\n",
       "        text-align: right;\n",
       "    }\n",
       "</style>\n",
       "<table border=\"1\" class=\"dataframe\">\n",
       "  <thead>\n",
       "    <tr style=\"text-align: right;\">\n",
       "      <th></th>\n",
       "      <th>count</th>\n",
       "      <th>mean</th>\n",
       "      <th>std</th>\n",
       "      <th>min</th>\n",
       "      <th>25%</th>\n",
       "      <th>50%</th>\n",
       "      <th>75%</th>\n",
       "      <th>max</th>\n",
       "    </tr>\n",
       "  </thead>\n",
       "  <tbody>\n",
       "    <tr>\n",
       "      <th>SalePrice</th>\n",
       "      <td>1460.0</td>\n",
       "      <td>180921.196</td>\n",
       "      <td>79442.503</td>\n",
       "      <td>34900.0</td>\n",
       "      <td>129975.0</td>\n",
       "      <td>163000.0</td>\n",
       "      <td>214000.0</td>\n",
       "      <td>755000.0</td>\n",
       "    </tr>\n",
       "  </tbody>\n",
       "</table>\n",
       "</div>"
      ],
      "text/plain": [
       "            count        mean        std      min       25%       50%  \\\n",
       "SalePrice  1460.0  180921.196  79442.503  34900.0  129975.0  163000.0   \n",
       "\n",
       "                75%       max  \n",
       "SalePrice  214000.0  755000.0  "
      ]
     },
     "execution_count": 16,
     "metadata": {},
     "output_type": "execute_result"
    }
   ],
   "source": [
    "# put normal and logged SalePrice side by side\n",
    "fig, ax = plt.subplots(1, 2, figsize=(18, 6))\n",
    "\n",
    "# show normal SalePrice distribution\n",
    "sns.histplot(TRAIN_DATA[TARGET_COLUMN], color='blue', kde=True, ax=ax[0])\n",
    "ax[0].set_title(\"SalePrice\")\n",
    "\n",
    "# show logged SalePrice distribution\n",
    "sns.histplot(np.log1p(TRAIN_DATA[TARGET_COLUMN]), color='red', kde=True, ax=ax[1])\n",
    "ax[1].set_title(\"Logged SalePrice\")\n",
    "\n",
    "plt.show()\n",
    "\n",
    "# print descriptive statistics as table\n",
    "pd.DataFrame(TRAIN_DATA[TARGET_COLUMN].describe()).T.round(3)"
   ]
  },
  {
   "cell_type": "markdown",
   "id": "cc71ae5ceece3dc1",
   "metadata": {},
   "source": [
    "### 2- Outlier Detection"
   ]
  },
  {
   "cell_type": "markdown",
   "id": "dc1ea5b115f2f9ff",
   "metadata": {},
   "source": [
    "# Feature Engineering and Selection"
   ]
  },
  {
   "cell_type": "markdown",
   "id": "88163f1f6b0a4397",
   "metadata": {},
   "source": [
    "## 1- Creating New Features"
   ]
  },
  {
   "cell_type": "markdown",
   "id": "62604fdc1c84011c",
   "metadata": {},
   "source": [
    "## 2- ARM to Find Association Rules"
   ]
  },
  {
   "cell_type": "markdown",
   "id": "29ddd0864fe674b2",
   "metadata": {},
   "source": [
    "## 3- Lasso Regression for Feature Selection"
   ]
  },
  {
   "cell_type": "markdown",
   "id": "e69e3d57b8f190fe",
   "metadata": {},
   "source": [
    "# Model Selection and Training"
   ]
  },
  {
   "cell_type": "markdown",
   "id": "9e4dc4b5e3c59eb8",
   "metadata": {},
   "source": [
    "#### (We can first try a simple models like linear regression, decision tree, random forest, etc. and then we can try ensemble models like XGBoost, LightGBM, etc.)"
   ]
  },
  {
   "cell_type": "markdown",
   "id": "dfb1dfd348bbf451",
   "metadata": {},
   "source": [
    "# Testing and Evaluation"
   ]
  },
  {
   "cell_type": "markdown",
   "id": "d4a3aff9393a89b1",
   "metadata": {},
   "source": [
    "## 1- Imputation of Missing Values in Test Data"
   ]
  },
  {
   "cell_type": "code",
   "execution_count": 20,
   "id": "37b2915496f7e5c8",
   "metadata": {
    "ExecuteTime": {
     "end_time": "2024-11-11T05:36:10.077348Z",
     "start_time": "2024-11-11T05:36:09.878446Z"
    }
   },
   "outputs": [],
   "source": [
    "IMPUTED_TEST_DATA = TEST_DATA.copy()\n",
    "IMPUTED_TEST_DATA.drop(columns=['Id'], inplace=True)\n",
    "\n",
    "# fill the missing values in the test data by using the rules that we found in the train data and the imputers that we created by using the train data\n",
    "IMPUTED_TEST_DATA = IMPUTED_TEST_DATA.apply(lambda x: imputation_of_missing_values_in_row(row=x,\n",
    "                                                                                          train_data=IMPUTED_TRAIN_DATA,\n",
    "                                                                                          numerical_columns=NUMERICAL_COLUMNS,\n",
    "                                                                                          categorical_columns=CATEGORICAL_COLUMNS,\n",
    "                                                                                          allowed_nan_columns=ALLOWED_NAN_COLUMNS,\n",
    "                                                                                          numerical_imputer=NUMERICAL_IMPUTER,\n",
    "                                                                                          categorical_imputer=CATEGORICAL_IMPUTER), axis=1)"
   ]
  },
  {
   "cell_type": "code",
   "execution_count": null,
   "id": "368e65a8",
   "metadata": {},
   "outputs": [],
   "source": [
    "IMPUTED_TEST_DATA.to_csv('data/imputed_test_data.csv', index = False)"
   ]
  },
  {
   "cell_type": "markdown",
   "id": "c33f6906c60f7649",
   "metadata": {},
   "source": [
    "## 2- Model Testing and Comparison"
   ]
  },
  {
   "cell_type": "markdown",
   "id": "833ddbc0d67f3038",
   "metadata": {},
   "source": [
    "## 3- Conclusion"
   ]
  },
  {
   "cell_type": "code",
   "execution_count": null,
   "id": "f4269252ba743d82",
   "metadata": {},
   "outputs": [],
   "source": []
  },
  {
   "cell_type": "code",
   "execution_count": null,
   "id": "c1bd639ef2593b20",
   "metadata": {},
   "outputs": [],
   "source": []
  },
  {
   "cell_type": "code",
   "execution_count": null,
   "id": "11450b5a4c441875",
   "metadata": {},
   "outputs": [],
   "source": []
  },
  {
   "cell_type": "code",
   "execution_count": null,
   "id": "35e28181b7f3374c",
   "metadata": {},
   "outputs": [],
   "source": []
  },
  {
   "cell_type": "code",
   "execution_count": null,
   "id": "d1b3b7018808376f",
   "metadata": {},
   "outputs": [],
   "source": []
  },
  {
   "cell_type": "code",
   "execution_count": null,
   "id": "76db7fc898ca2896",
   "metadata": {},
   "outputs": [],
   "source": []
  },
  {
   "cell_type": "code",
   "execution_count": null,
   "id": "24c7164d8523ab14",
   "metadata": {},
   "outputs": [],
   "source": []
  },
  {
   "cell_type": "code",
   "execution_count": null,
   "id": "ed98904b46391238",
   "metadata": {},
   "outputs": [],
   "source": []
  },
  {
   "cell_type": "code",
   "execution_count": null,
   "id": "f9cdb018128d5528",
   "metadata": {},
   "outputs": [],
   "source": []
  },
  {
   "cell_type": "code",
   "execution_count": null,
   "id": "e261cde1d1e96c22",
   "metadata": {},
   "outputs": [],
   "source": []
  },
  {
   "cell_type": "code",
   "execution_count": null,
   "id": "f3ea5fbf0c784438",
   "metadata": {},
   "outputs": [],
   "source": []
  },
  {
   "cell_type": "code",
   "execution_count": null,
   "id": "8dbeb2a30aafdc6",
   "metadata": {},
   "outputs": [],
   "source": []
  },
  {
   "cell_type": "code",
   "execution_count": null,
   "id": "7e06272177ddf027",
   "metadata": {},
   "outputs": [],
   "source": []
  },
  {
   "cell_type": "code",
   "execution_count": null,
   "id": "322108795dc55e60",
   "metadata": {},
   "outputs": [],
   "source": []
  },
  {
   "cell_type": "code",
   "execution_count": null,
   "id": "9cd5824f1b911d6c",
   "metadata": {},
   "outputs": [],
   "source": []
  },
  {
   "cell_type": "code",
   "execution_count": null,
   "id": "9be5fb5ebf1cd138",
   "metadata": {},
   "outputs": [],
   "source": []
  },
  {
   "cell_type": "markdown",
   "id": "ab8e8e66fb93895d",
   "metadata": {},
   "source": [
    "# AFTER THIS JUST A DRAFT WORK OF BORA"
   ]
  },
  {
   "cell_type": "code",
   "execution_count": null,
   "id": "56b5075e2abbe0e",
   "metadata": {
    "ExecuteTime": {
     "end_time": "2024-11-11T05:12:18.511954Z",
     "start_time": "2024-11-11T05:12:18.392709Z"
    }
   },
   "outputs": [],
   "source": [
    "import numpy as np\n",
    "import pandas as pd\n",
    "from sklearn.impute import KNNImputer\n",
    "from sklearn.preprocessing import OrdinalEncoder\n",
    "\n",
    "# Sample data with missing values\n",
    "data = {\n",
    "    'Numeric1': [1.0, 2.0, np.nan, 4.0, 5.0],\n",
    "    'Numeric2': [2.1, np.nan, 3.3, 4.4, np.nan],\n",
    "    'Category1': ['A', 'B', np.nan, 'B', 'A'],\n",
    "    'Category2': ['X', 'Y', 'Y', np.nan, 'X']\n",
    "}\n",
    "\n",
    "ordinal_order = {\n",
    "    'Category1': ['A', 'B'],\n",
    "    'Category2': ['X', 'Y']\n",
    "}\n",
    "\n",
    "# Creating DataFrame\n",
    "df_train = pd.DataFrame(data)\n",
    "print(\"\\nOriginal Data:\")\n",
    "print(df_train)\n",
    "\n",
    "# Identify numerical and categorical columns\n",
    "numerical_cols = df_train.select_dtypes(include=['float64', 'int64']).columns\n",
    "categorical_cols = df_train.select_dtypes(include=['object']).columns\n",
    "\n",
    "# Initialize OrdinalEncoder with specified order\n",
    "ordinal_encoder = OrdinalEncoder(categories=[ordinal_order[col] for col in categorical_cols])\n",
    "\n",
    "# Encode categorical columns\n",
    "df_train[categorical_cols] = ordinal_encoder.fit_transform(df_train[categorical_cols])\n",
    "print(\"\\nData after encoding categorical columns:\")\n",
    "print(df_train)\n",
    "\n",
    "# Initialize KNNImputer\n",
    "knn_imputer = KNNImputer(n_neighbors=2)\n",
    "\n",
    "# Impute missing values\n",
    "df_train_imputed = pd.DataFrame(knn_imputer.fit_transform(df_train), columns=df_train.columns)\n",
    "print(\"\\nData after KNN Imputation (numerical columns only):\")\n",
    "print(df_train_imputed)\n",
    "\n",
    "# Decode categorical columns back to original categories\n",
    "df_train_imputed[categorical_cols] = ordinal_encoder.inverse_transform(df_train_imputed[categorical_cols])\n",
    "\n",
    "# Display the imputed DataFrame\n",
    "print(\"\\nData after KNN Imputation:\")\n",
    "print(df_train_imputed)"
   ]
  },
  {
   "cell_type": "code",
   "execution_count": null,
   "id": "7e1b34dbeba50659",
   "metadata": {
    "ExecuteTime": {
     "end_time": "2024-11-11T05:10:16.017246Z",
     "start_time": "2024-11-11T05:10:15.904779Z"
    }
   },
   "outputs": [],
   "source": [
    "import numpy as np\n",
    "import pandas as pd\n",
    "\n",
    "# Load the fitted imputers\n",
    "knn_imputer = knn_imputer\n",
    "cat_imputer = knn_imputer\n",
    "\n",
    "# Sample test data with missing values\n",
    "test_data = {\n",
    "    'Numeric1': [np.nan, 2.5, 3.5],\n",
    "    'Numeric2': [2.5, np.nan, 3.5],\n",
    "    'Category1': ['A', np.nan, 'B'],\n",
    "    'Category2': [np.nan, 'Y', 'X']\n",
    "}\n",
    "\n",
    "# Creating DataFrame\n",
    "df_test = pd.DataFrame(test_data)\n",
    "print(\"\\nOriginal Data:\")\n",
    "print(df_test)\n",
    "\n",
    "# Impute missing values in the test set row by row using the fitted imputers\n",
    "for index, ROW in df_test.iterrows():\n",
    "    print(\"\\nRow before imputation:\")\n",
    "    print(ROW.to_frame().T)\n",
    "    # first encode the categorical columns\n",
    "    ROW[categorical_cols] = \n",
    "    \n",
    "    \n",
    "print(\"\\nData after imputation:\")\n",
    "print(df_test)"
   ]
  },
  {
   "cell_type": "code",
   "execution_count": null,
   "id": "cda05486946702fd",
   "metadata": {},
   "outputs": [],
   "source": []
  },
  {
   "cell_type": "code",
   "execution_count": null,
   "id": "e1299b1d00aefb33",
   "metadata": {},
   "outputs": [],
   "source": []
  },
  {
   "cell_type": "code",
   "execution_count": null,
   "id": "e7ad036f567ac6c3",
   "metadata": {},
   "outputs": [],
   "source": []
  },
  {
   "cell_type": "code",
   "execution_count": null,
   "id": "2452f39ba6e2588",
   "metadata": {},
   "outputs": [],
   "source": []
  },
  {
   "cell_type": "code",
   "execution_count": null,
   "id": "f893b76a1dc8c50c",
   "metadata": {},
   "outputs": [],
   "source": []
  },
  {
   "cell_type": "code",
   "execution_count": null,
   "id": "11634d737ca1435",
   "metadata": {},
   "outputs": [],
   "source": []
  },
  {
   "cell_type": "code",
   "execution_count": null,
   "id": "2383ae6b910782be",
   "metadata": {},
   "outputs": [],
   "source": []
  },
  {
   "cell_type": "code",
   "execution_count": null,
   "id": "e8213cb4a4df6b12",
   "metadata": {},
   "outputs": [],
   "source": []
  },
  {
   "cell_type": "code",
   "execution_count": null,
   "id": "521e2ce2aa0ca367",
   "metadata": {},
   "outputs": [],
   "source": []
  },
  {
   "cell_type": "code",
   "execution_count": null,
   "id": "c46718b4c315d7d",
   "metadata": {},
   "outputs": [],
   "source": []
  },
  {
   "cell_type": "code",
   "execution_count": null,
   "id": "f8300eac2c4a1eee",
   "metadata": {},
   "outputs": [],
   "source": []
  },
  {
   "cell_type": "code",
   "execution_count": null,
   "id": "12de7c20271e0411",
   "metadata": {},
   "outputs": [],
   "source": []
  },
  {
   "cell_type": "code",
   "execution_count": null,
   "id": "f8197e9f8a24b583",
   "metadata": {},
   "outputs": [],
   "source": []
  },
  {
   "cell_type": "code",
   "execution_count": null,
   "id": "b4d472334119d08e",
   "metadata": {},
   "outputs": [],
   "source": []
  },
  {
   "cell_type": "code",
   "execution_count": null,
   "id": "d1a907bfd56cf061",
   "metadata": {},
   "outputs": [],
   "source": []
  },
  {
   "cell_type": "code",
   "execution_count": null,
   "id": "6590acfee7da4c2a",
   "metadata": {},
   "outputs": [],
   "source": []
  },
  {
   "cell_type": "code",
   "execution_count": null,
   "id": "5c6d6a2afe1e955d",
   "metadata": {},
   "outputs": [],
   "source": []
  },
  {
   "cell_type": "code",
   "execution_count": null,
   "id": "760a10be709d726a",
   "metadata": {
    "ExecuteTime": {
     "end_time": "2024-11-07T17:17:14.575313Z",
     "start_time": "2024-11-07T17:17:14.505734Z"
    }
   },
   "outputs": [],
   "source": [
    "import numpy as np\n",
    "from sklearn.impute import KNNImputer\n",
    "import joblib\n",
    "\n",
    "'''# Sample data with missing values\n",
    "data = TRAIN_DATA[NUMERICAL_COLUMNS]\n",
    "\n",
    "# Creating DataFrame\n",
    "df_train = pd.DataFrame(data)\n",
    "\n",
    "# Initialize KNN Imputer with specified number of neighbors\n",
    "imputer = KNNImputer(n_neighbors=5, weights='distance')\n",
    "\n",
    "# Fit the imputer on the training data\n",
    "df_train_imputed = pd.DataFrame(imputer.fit_transform(df_train), columns=df_train.columns)'''"
   ]
  },
  {
   "cell_type": "code",
   "execution_count": null,
   "id": "e37a4cbf4b9bd9e7",
   "metadata": {
    "ExecuteTime": {
     "end_time": "2024-11-07T17:43:52.267490Z",
     "start_time": "2024-11-07T17:43:52.240358Z"
    }
   },
   "outputs": [],
   "source": [
    "import numpy as np\n",
    "import pandas as pd\n",
    "from sklearn.impute import KNNImputer\n",
    "from sklearn.preprocessing import OrdinalEncoder\n",
    "\n",
    "# Sample data with missing values\n",
    "data = {\n",
    "    'Numeric1': [1.0, 2.0, np.nan, 4.0, 5.0],\n",
    "    'Numeric2': [2.1, np.nan, 3.3, 4.4, np.nan],\n",
    "    'Category1': ['A', 'B', np.nan, 'B', 'A'],\n",
    "    'Category2': ['X', 'Y', 'Y', np.nan, 'X']\n",
    "}\n",
    "\n",
    "\n",
    "# Creating DataFrame\n",
    "df_train = pd.DataFrame(data)\n",
    "\n",
    "# Identify numerical and categorical columns\n",
    "numerical_cols = df_train.select_dtypes(include=['float64', 'int64']).columns\n",
    "categorical_cols = df_train.select_dtypes(include=['object']).columns\n",
    "\n",
    "# Initialize OrdinalEncoder\n",
    "ordinal_encoder = OrdinalEncoder()\n",
    "\n",
    "# Encode categorical columns\n",
    "df_train[categorical_cols] = ordinal_encoder.fit_transform(df_train[categorical_cols])\n",
    "\n",
    "# Initialize KNNImputer\n",
    "knn_imputer = KNNImputer(n_neighbors=2)\n",
    "\n",
    "# Impute missing values\n",
    "df_train_imputed = pd.DataFrame(knn_imputer.fit_transform(df_train),\n",
    "                                columns=df_train.columns)\n",
    "\n",
    "# Decode categorical columns back to original categories\n",
    "df_train_imputed[categorical_cols] = ordinal_encoder.inverse_transform(df_train_imputed[categorical_cols])\n",
    "\n",
    "# Display the imputed DataFrame\n",
    "print(\"\\nData after KNN Imputation:\")\n",
    "print(df_train_imputed)"
   ]
  },
  {
   "cell_type": "code",
   "execution_count": null,
   "id": "f82ccafd2fe4367a",
   "metadata": {},
   "outputs": [],
   "source": []
  },
  {
   "cell_type": "code",
   "execution_count": null,
   "id": "863ce41535c6e4fc",
   "metadata": {
    "ExecuteTime": {
     "end_time": "2024-11-07T17:52:15.475358Z",
     "start_time": "2024-11-07T17:52:15.448416Z"
    }
   },
   "outputs": [],
   "source": [
    "def impute_missing_data(train_data: pd.DataFrame,\n",
    "                        numerical_columns: list[str],\n",
    "                        categorical_columns: list[str]) -> tuple[pd.DataFrame, pd.DataFrame]:\n",
    "    \"\"\"\n",
    "    Imputes missing values in the training and test data\n",
    "    \n",
    "    :param train_data: training data\n",
    "    :param test_data: test data\n",
    "    :param numerical_columns: list of numerical columns in the data\n",
    "    :param categorical_columns: list of categorical columns in the data\n",
    "    :return: tuple of imputed training and test data\n",
    "    \"\"\"\n",
    "    # Identify numerical and categorical columns\n",
    "    numerical_cols = train_data.select_dtypes(include=['float64', 'int64']).columns\n",
    "    categorical_cols = train_data.select_dtypes(include=['object']).columns\n",
    "\n",
    "    # Impute numerical columns in training data\n",
    "    knn_imputer = KNNImputer(n_neighbors=2)\n",
    "    train_data[numerical_cols] = knn_imputer.fit_transform(train_data[numerical_cols])\n",
    "\n",
    "    # Impute categorical columns in training data\n",
    "    cat_imputer = SimpleImputer(strategy='most_frequent')\n",
    "    train_data[categorical_cols] = cat_imputer.fit_transform(train_data[categorical_cols])\n",
    "\n",
    "    # Save the fitted imputers\n",
    "    joblib.dump(knn_imputer, 'knn_imputer.joblib')\n",
    "    joblib.dump(cat_imputer, 'cat_imputer.joblib')\n",
    "\n",
    "    # Load the imputers (for demonstration; in practice, you'd load these in your test environment)\n",
    "    knn_imputer = joblib.load('knn_imputer.joblib')\n",
    "    cat_imputer = joblib.load('cat_imputer.joblib')\n",
    "\n",
    "    # Impute numerical columns in test data\n",
    "    test_data[numerical_cols] = knn_imputer.transform(test_data[numerical_cols])\n",
    "\n",
    "    # Impute categorical columns in test data\n",
    "    test_data[categorical_cols] = cat_imputer.transform(test_data[categorical_cols])\n",
    "\n",
    "    return train_data, test_data\n",
    "\n",
    "# Sample training data with missing values\n",
    "train_data_ = {\n",
    "    'Numeric1': [1.0, 2.0, np.nan, 4.0, 5.0],\n",
    "    'Numeric2': [2.1, np.nan, 3.3, 4.4, np.nan],\n",
    "    'Category1': ['A', 'B', np.nan, 'B', 'A'],\n",
    "    'Category2': ['X', 'Y', 'Y', 'X', 'X']\n",
    "}\n",
    "\n",
    "# Sample test data with missing values\n",
    "test_data = {\n",
    "    'Numeric1': [np.nan, 2.5, 3.5],\n",
    "    'Numeric2': [2.5, np.nan, 3.5],\n",
    "    'Category1': ['A', np.nan, 'B'],\n",
    "    'Category2': [np.nan, 'Y', 'X']\n",
    "}\n",
    "\n",
    "# Creating DataFrames\n",
    "df_train = pd.DataFrame(train_data_)\n",
    "df_test = pd.DataFrame(test_data)\n",
    "\n",
    "# Identify numerical and categorical columns\n",
    "numerical_cols = df_train.select_dtypes(include=['float64', 'int64']).columns\n",
    "categorical_cols = df_train.select_dtypes(include=['object']).columns\n",
    "\n",
    "# Impute numerical columns in training data\n",
    "knn_imputer = KNNImputer(n_neighbors=2)\n",
    "df_train[numerical_cols] = knn_imputer.fit_transform(df_train[numerical_cols])\n",
    "\n",
    "# Impute categorical columns in training data\n",
    "cat_imputer = SimpleImputer(strategy='most_frequent')\n",
    "df_train[categorical_cols] = cat_imputer.fit_transform(df_train[categorical_cols])\n",
    "\n",
    "# Save the fitted imputers\n",
    "joblib.dump(knn_imputer, 'knn_imputer.joblib')\n",
    "joblib.dump(cat_imputer, 'cat_imputer.joblib')\n",
    "\n",
    "# Load the imputers (for demonstration; in practice, you'd load these in your test environment)\n",
    "knn_imputer = joblib.load('knn_imputer.joblib')\n",
    "cat_imputer = joblib.load('cat_imputer.joblib')\n",
    "\n",
    "# Impute numerical columns in test data\n",
    "df_test[numerical_cols] = knn_imputer.transform(df_test[numerical_cols])\n",
    "\n",
    "# Impute categorical columns in test data\n",
    "df_test[categorical_cols] = cat_imputer.transform(df_test[categorical_cols])\n",
    "\n",
    "# Display the imputed DataFrames\n",
    "print(\"\\nTraining data after imputation:\")\n",
    "print(df_train)\n",
    "print(\"\\nTest data after imputation:\")\n",
    "print(df_test)"
   ]
  },
  {
   "cell_type": "code",
   "execution_count": null,
   "id": "fb1d2b34fee917c3",
   "metadata": {},
   "outputs": [],
   "source": []
  },
  {
   "cell_type": "code",
   "execution_count": null,
   "id": "11950166fdf99edc",
   "metadata": {
    "ExecuteTime": {
     "end_time": "2024-11-07T18:01:40.879119Z",
     "start_time": "2024-11-07T18:01:40.829334Z"
    }
   },
   "outputs": [],
   "source": [
    "import numpy as np\n",
    "import pandas as pd\n",
    "from sklearn.experimental import enable_iterative_imputer  # noqa\n",
    "from sklearn.impute import IterativeImputer, KNNImputer\n",
    "from sklearn.preprocessing import OrdinalEncoder, OneHotEncoder\n",
    "import joblib\n",
    "\n",
    "# Sample training data with missing values\n",
    "train_data_ = {\n",
    "    'Numeric1': [1.0, 2.0, np.nan, 4.0, 5.0],\n",
    "    'Numeric2': [2.1, np.nan, 3.3, 4.4, np.nan],\n",
    "    'Category1': ['A', 'B', np.nan, 'B', 'A'],\n",
    "    'Category2': ['X', 'Y', 'Y', np.nan, 'X']\n",
    "}\n",
    "\n",
    "# Sample test data with missing values\n",
    "test_data = {\n",
    "    'Numeric1': [np.nan, 2.5, 3.5],\n",
    "    'Numeric2': [2.5, np.nan, 3.5],\n",
    "    'Category1': ['A', np.nan, 'B'],\n",
    "    'Category2': [np.nan, 'Y', 'X']\n",
    "}\n",
    "\n",
    "# Creating DataFrames\n",
    "df_train = pd.DataFrame(train_data_)\n",
    "df_test = pd.DataFrame(test_data)\n",
    "\n",
    "# Identify numerical and categorical columns\n",
    "numerical_cols = df_train.select_dtypes(include=['float64', 'int64']).columns\n",
    "categorical_cols = df_train.select_dtypes(include=['object']).columns\n",
    "\n",
    "# Encode categorical columns\n",
    "encoder = OneHotEncoder(handle_unknown='ignore')\n",
    "df_train[categorical_cols] = encoder.fit_transform(df_train[categorical_cols])\n",
    "df_test[categorical_cols] = encoder.transform(df_test[categorical_cols])\n",
    "\n",
    "# Impute numerical columns in training data\n",
    "iterative_imputer = IterativeImputer()\n",
    "df_train[numerical_cols] = iterative_imputer.fit_transform(df_train[numerical_cols])\n",
    "\n",
    "# Impute categorical columns in training data\n",
    "knn_imputer = KNNImputer(n_neighbors=2)\n",
    "df_train[categorical_cols] = knn_imputer.fit_transform(df_train[categorical_cols])\n",
    "\n",
    "# Save the fitted imputers and encoder\n",
    "joblib.dump(iterative_imputer, 'iterative_imputer.joblib')\n",
    "joblib.dump(knn_imputer, 'knn_imputer.joblib')\n",
    "joblib.dump(encoder, 'encoder.joblib')\n",
    "\n",
    "# Load the imputers and encoder (for demonstration; in practice, you'd load these in your test environment)\n",
    "iterative_imputer = joblib.load('iterative_imputer.joblib')\n",
    "knn_imputer = joblib.load('knn_imputer.joblib')\n",
    "encoder = joblib.load('encoder.joblib')\n",
    "\n",
    "# Impute numerical columns in test data\n",
    "df_test[numerical_cols] = iterative_imputer.transform(df_test[numerical_cols])\n",
    "\n",
    "# Impute categorical columns in test data\n",
    "df_test[categorical_cols] = knn_imputer.transform(df_test[categorical_cols])\n",
    "\n",
    "# Decode categorical columns back to original categories\n",
    "df_train[categorical_cols] = encoder.inverse_transform(df_train[categorical_cols])\n",
    "df_test[categorical_cols] = encoder.inverse_transform(df_test[categorical_cols])\n",
    "\n",
    "# Display the imputed DataFrames\n",
    "print(\"\\nTraining data after imputation:\")\n",
    "print(df_train)\n",
    "print(\"\\nTest data after imputation:\")\n",
    "print(df_test)"
   ]
  },
  {
   "cell_type": "code",
   "execution_count": null,
   "id": "34f8d88e7c968283",
   "metadata": {},
   "outputs": [],
   "source": []
  },
  {
   "cell_type": "code",
   "execution_count": null,
   "id": "7aab19cbfe56a502",
   "metadata": {},
   "outputs": [],
   "source": []
  },
  {
   "cell_type": "code",
   "execution_count": null,
   "id": "fd0ce86b13062148",
   "metadata": {
    "ExecuteTime": {
     "end_time": "2024-11-07T17:21:25.885671Z",
     "start_time": "2024-11-07T17:21:25.875967Z"
    }
   },
   "outputs": [],
   "source": [
    "def fill_missing_values_in_train_and_save_imputers(df: pd.DataFrame,\n",
    "                                                  numerical_columns: list[str],\n",
    "                                                  categorical_columns: list[str]) -> tuple[pd.DataFrame, dict[str, KNNImputer]]:\n",
    "    \"\"\"\n",
    "    Fills missing values in the dataframe and saves the imputers for numerical columns and categorical columns\n",
    "    \n",
    "    :param df: dataframe to fill the missing values\n",
    "    :param numerical_columns: list of numerical columns in the dataframe\n",
    "    :param categorical_columns: list of categorical columns in the dataframe\n",
    "    :return: preprocessed dataframe\n",
    "    :return: dictionary of imputers for numerical columns and categorical columns\n",
    "    \"\"\"\n",
    "    no_rows = df.shape[0]\n",
    "    \n",
    "    # check if all values in categorical columns are string\n",
    "    for i in range(no_rows):\n",
    "        for column in categorical_columns:\n",
    "            if not isinstance(df[column][i], str):\n",
    "                raise ValueError(f\"Value {df[column][i]} in column {column} is not a string, please convert it to string, or check for NaN values, index: {i}\")\n",
    "            \n",
    "    preprocessed_df = df.copy()\n",
    "    imputers = {}\n",
    "    \n",
    "    # first fill the missing values in the numerical columns\n",
    "    numerical_df = preprocessed_df[numerical_columns]\n",
    "    numerical_imputer = KNNImputer(n_neighbors=5, weights='distance')\n",
    "    preprocessed_df[numerical_columns] = numerical_imputer.fit_transform(numerical_df)\n",
    "    imputers['numerical'] = numerical_imputer\n",
    "    \n",
    "    # then fill the missing values in the categorical columns\n",
    "    categorical_df = preprocessed_df[categorical_columns]\n",
    "    categorical_imputer = "
   ]
  },
  {
   "cell_type": "code",
   "execution_count": null,
   "id": "8153cdd567fc98f6",
   "metadata": {
    "ExecuteTime": {
     "end_time": "2024-11-07T17:21:49.460698Z",
     "start_time": "2024-11-07T17:21:49.273117Z"
    }
   },
   "outputs": [],
   "source": [
    "FILLED_TRAIN_DATA, IMPUTERS = fill_missing_values_in_train_and_save_imputers(TRAIN_DATA, NUMERICAL_COLUMNS, CATEGORICAL_COLUMNS)"
   ]
  },
  {
   "cell_type": "code",
   "execution_count": null,
   "id": "4f5104adf5c7718d",
   "metadata": {
    "ExecuteTime": {
     "end_time": "2024-11-07T17:13:04.607249Z",
     "start_time": "2024-11-07T17:13:04.595359Z"
    }
   },
   "outputs": [],
   "source": [
    "from sklearn.impute import KNNImputer\n",
    "\n",
    "def fill_missing_data(df: pd.DataFrame,\n",
    "                      numerical_columns: list[str],\n",
    "                      categorical_columns: list[str]) -> pd.DataFrame:\n",
    "    \"\"\"\n",
    "    Preprocesses the data by filling missing values\n",
    "    \n",
    "    :param df: dataframe that needs to be preprocessed\n",
    "    :param numerical_columns: list of numerical columns in the dataframe\n",
    "    :param categorical_columns: list of categorical columns in the dataframe\n",
    "    :return: preprocessed dataframe\n",
    "    \"\"\"\n",
    "    no_rows = df.shape[0]\n",
    "    \n",
    "    # check if all values in categorical columns are string\n",
    "    for i in range(no_rows):\n",
    "        for column in categorical_columns:\n",
    "            if not isinstance(df[column][i], str):\n",
    "                raise ValueError(f\"Value {df[column][i]} in column {column} is not a string, please convert it to string, or check for NaN values, index: {i}\")\n",
    "    \n",
    "    preprocessed_df = df.copy()\n",
    "    imputer = KNNImputer(n_neighbors=5, weights='distance')\n",
    "    \n",
    "    # iterate over rows\n",
    "    for i in range(no_rows):\n",
    "        # iterate over columns\n",
    "        for column in numerical_columns:\n",
    "            if pd.isna(df[column][i]):\n",
    "                # fill missing value with the predicted value\n",
    "                preprocessed_df[column][i] = imputer.fit_transform(df.loc[[i], categorical_columns])[0][0]\n",
    "\n",
    "    return preprocessed_df"
   ]
  },
  {
   "cell_type": "code",
   "execution_count": null,
   "id": "5579ef142c45c8b2",
   "metadata": {
    "ExecuteTime": {
     "end_time": "2024-11-07T17:13:21.102406Z",
     "start_time": "2024-11-07T17:13:20.937448Z"
    }
   },
   "outputs": [],
   "source": [
    "# make all categorical columns string\n",
    "for COLUMN in CATEGORICAL_COLUMNS:\n",
    "    TRAIN_DATA[COLUMN] = TRAIN_DATA[COLUMN].astype(str)\n",
    "    \n",
    "FILLED_DATA = fill_missing_data(TRAIN_DATA, NUMERICAL_COLUMNS, CATEGORICAL_COLUMNS)"
   ]
  },
  {
   "cell_type": "code",
   "execution_count": null,
   "id": "6bfcc7e7bb24e7cb",
   "metadata": {},
   "outputs": [],
   "source": []
  },
  {
   "cell_type": "code",
   "execution_count": null,
   "id": "a034ae483f4d70a3",
   "metadata": {},
   "outputs": [],
   "source": []
  },
  {
   "cell_type": "code",
   "execution_count": null,
   "id": "71c91e7101dcce85",
   "metadata": {},
   "outputs": [],
   "source": []
  },
  {
   "cell_type": "code",
   "execution_count": null,
   "id": "3e7242b67591cdc6",
   "metadata": {},
   "outputs": [],
   "source": []
  },
  {
   "cell_type": "code",
   "execution_count": null,
   "id": "7ee368800886bf40",
   "metadata": {},
   "outputs": [],
   "source": []
  },
  {
   "cell_type": "code",
   "execution_count": null,
   "id": "3983f07cfa2ef5b5",
   "metadata": {},
   "outputs": [],
   "source": []
  },
  {
   "cell_type": "code",
   "execution_count": null,
   "id": "da4393b72181bcbd",
   "metadata": {},
   "outputs": [],
   "source": []
  },
  {
   "cell_type": "code",
   "execution_count": null,
   "id": "6ad6b6d3f55ae002",
   "metadata": {},
   "outputs": [],
   "source": []
  },
  {
   "cell_type": "code",
   "execution_count": null,
   "id": "5099514f2971a0a8",
   "metadata": {},
   "outputs": [],
   "source": []
  },
  {
   "cell_type": "code",
   "execution_count": null,
   "id": "a2b7cff4ae3c35b2",
   "metadata": {},
   "outputs": [],
   "source": []
  },
  {
   "cell_type": "code",
   "execution_count": null,
   "id": "8547e15fe8f22f0b",
   "metadata": {},
   "outputs": [],
   "source": []
  },
  {
   "cell_type": "code",
   "execution_count": null,
   "id": "a270a8176182beb4",
   "metadata": {
    "ExecuteTime": {
     "end_time": "2024-11-06T18:15:40.456314Z",
     "start_time": "2024-11-06T18:15:40.428041Z"
    }
   },
   "outputs": [],
   "source": [
    "# plot the existence of the values with bar plot using missingno package\n",
    "corr_matrix = DATA_FRAME.corr()\n",
    "\n",
    "# plot all 19 columns with missing values in different plots\n",
    "plt.subplots(5, 4, figsize=(20, 70))\n",
    "for I, COLUMN in enumerate(MISSING_DATA_INFO.index):\n",
    "    plt.subplot(5, 4, I+1)\n",
    "    sb.heatmap(corr_matrix[[f'{COLUMN}_exists']].sort_values(by=f'{COLUMN}_exists', ascending=False), annot=True, fmt='.2f', cmap=\"coolwarm\", vmin=-1, vmax=1)\n",
    "    plt.title(f'{COLUMN} missingness correlation')\n",
    "plt.tight_layout()\n",
    "plt.show()"
   ]
  },
  {
   "cell_type": "code",
   "execution_count": null,
   "id": "4d548867fe049d4",
   "metadata": {
    "ExecuteTime": {
     "end_time": "2024-11-07T16:53:26.206782Z",
     "start_time": "2024-11-07T16:53:26.199635Z"
    }
   },
   "outputs": [],
   "source": [
    "def find_every_1_to_1_rule(df: pd.DataFrame,\n",
    "                           head_column_name: str,\n",
    "                           body_column_name: Optional[str] = None,\n",
    "                           given_head_values: Optional[dict[str, Union[int, str]]] = None,\n",
    "                           given_body_values: Optional[dict[str, Union[int, str]]] = None\n",
    "                           ) -> pd.DataFrame:\n",
    "    \"\"\"\n",
    "    Finds every 1 to 1 rule for the given column\n",
    "    \n",
    "    :param df: dataframe to find the rules\n",
    "               If there are any numerical columns they have to change as {column_name}_exists column \n",
    "                    to indicate that the value is missing or not (0 missing, 1 exists)\n",
    "               And if there is any NaN value in categorical columns, it should be filled with 'NaN'\n",
    "    :param head_column_name: column name to use as head of the rule\n",
    "    :param body_column_name: column name to use as body of the rule\n",
    "    :param given_head_values: dictionary of column names and values for the head of the rule (optional) {column_name: [value, ...], ...}\n",
    "    :param given_body_values: dictionary of column names and values for the body of the rule (optional) {column_name: [value, ...], ...}\n",
    "    :return: dataframe of rules\n",
    "    \"\"\"\n",
    "    if not head_column_name in df.columns:\n",
    "        raise ValueError(f\"Column {head_column_name} is not in the dataframe\")\n",
    "    if body_column_name and not body_column_name in df.columns:\n",
    "        raise ValueError(f\"Column {body_column_name} is not in the dataframe\")\n",
    "    if body_column_name and body_column_name == head_column_name:\n",
    "        raise ValueError(\"Body column and head column cannot be the same\")\n",
    "    if given_head_values and not head_column_name in given_head_values:\n",
    "        raise ValueError(f\"Column {head_column_name} is not in the head values\")\n",
    "    if given_body_values and not body_column_name in given_body_values:\n",
    "        raise ValueError(f\"Column {body_column_name} is not in the body values\")\n",
    "    \n",
    "    unique_values_in_head_column = df[head_column_name].unique()\n",
    "    \n",
    "    # if head_values is given, use them instead of the unique values in the column. The given values should be in the unique values of the column\n",
    "    if given_head_values:\n",
    "        unique_values_in_head_column = given_head_values[head_column_name] if given_head_values[head_column_name] in unique_values_in_head_column else []\n",
    "        \n",
    "    rules = pd.DataFrame(columns=['Body_Name', 'Body_Value', 'Head_Name', 'Head_Value', 'Support', 'Confidence', 'Lift'])\n",
    "    \n",
    "    other_columns = df.columns.tolist() if not body_column_name else [body_column_name]\n",
    "    other_columns.remove(head_column_name)\n",
    "        \n",
    "    for other_column in other_columns:\n",
    "        \n",
    "        # select the unique values in the column\n",
    "        unique_values_in_body_column = df[other_column].unique()\n",
    "        \n",
    "        # if body_values is given, use them instead of the unique values in the column\n",
    "        if given_body_values:\n",
    "            unique_values_in_body_column = given_body_values[other_column] if given_body_values[other_column] in unique_values_in_body_column else []\n",
    "            \n",
    "        for other_value in unique_values_in_body_column:\n",
    "            body_values = {other_column: other_value}\n",
    "            for value in unique_values_in_head_column:\n",
    "                head_values = {head_column_name: value}\n",
    "                rule_info = find_rule_info(df, body_values, head_values)\n",
    "                # if support is 0, then there is no need to add the rule\n",
    "                if rule_info['support'] > 0:\n",
    "                    rules.loc[rules.shape[0]] = [other_column, other_value, head_column_name, value, rule_info['support'], rule_info['confidence'], rule_info['lift']]\n",
    "\n",
    "    return rules"
   ]
  },
  {
   "cell_type": "code",
   "execution_count": null,
   "id": "ba38fb26d05e676f",
   "metadata": {
    "ExecuteTime": {
     "end_time": "2024-11-07T16:53:26.560269Z",
     "start_time": "2024-11-07T16:53:26.496897Z"
    }
   },
   "outputs": [],
   "source": [
    "DATA_EXISTENCE = TRAIN_DATA.copy()\n",
    "DATA_EXISTENCE.drop(columns=[TARGET_COLUMN, 'Id'], inplace=True)\n",
    "\n",
    "# for numerical columns create a new column to show that the value is missing or not, drop the original column\n",
    "for COLUMN in NUMERICAL_COLUMNS:\n",
    "    DATA_EXISTENCE[f'{COLUMN}_exists'] = DATA_EXISTENCE[COLUMN].fillna(-1)\n",
    "    DATA_EXISTENCE.drop(columns=[COLUMN], inplace=True)\n",
    "    # change the values to -1 if the value is missing, 0 if the value is actually 0, 1 if the value is not missing\n",
    "    DATA_EXISTENCE[f'{COLUMN}_exists'] = DATA_EXISTENCE[f'{COLUMN}_exists'].apply(lambda x: 0 if x == 0 else -1 if x == -1 else 1)\n",
    "\n",
    "# for categorical columns fill NaN values with 'NaN'\n",
    "for COLUMN in CATEGORICAL_COLUMNS:\n",
    "    DATA_EXISTENCE[COLUMN] = DATA_EXISTENCE[COLUMN].fillna('NaN')\n",
    "    \n",
    "DATA_EXISTENCE"
   ]
  },
  {
   "cell_type": "code",
   "execution_count": null,
   "id": "daaaf908530e7bcf",
   "metadata": {
    "ExecuteTime": {
     "end_time": "2024-11-07T16:55:59.967063Z",
     "start_time": "2024-11-07T16:55:48.851656Z"
    }
   },
   "outputs": [],
   "source": [
    "# find the 1 to 1 rules for the column MasVnrType in the TRAIN_DATA\n",
    "RULES = find_every_1_to_1_rule(df=DATA_EXISTENCE, \n",
    "                               head_column_name='GarageYrBlt_exists')"
   ]
  },
  {
   "cell_type": "code",
   "execution_count": null,
   "id": "f80e2dfa83a59d05",
   "metadata": {
    "ExecuteTime": {
     "end_time": "2024-11-07T16:56:00.775989Z",
     "start_time": "2024-11-07T16:56:00.768221Z"
    }
   },
   "outputs": [],
   "source": [
    "RULES"
   ]
  },
  {
   "cell_type": "code",
   "execution_count": null,
   "id": "8f28ff3fa5410b63",
   "metadata": {
    "ExecuteTime": {
     "end_time": "2024-11-06T18:16:44.237074Z",
     "start_time": "2024-11-06T18:16:44.234947Z"
    }
   },
   "outputs": [],
   "source": []
  },
  {
   "cell_type": "code",
   "execution_count": null,
   "id": "eebbf61f920c85c",
   "metadata": {
    "ExecuteTime": {
     "end_time": "2024-11-06T18:16:44.272772Z",
     "start_time": "2024-11-06T18:16:44.271540Z"
    }
   },
   "outputs": [],
   "source": []
  },
  {
   "cell_type": "code",
   "execution_count": null,
   "id": "210170d734872dd7",
   "metadata": {
    "ExecuteTime": {
     "end_time": "2024-11-06T18:16:44.431845Z",
     "start_time": "2024-11-06T18:16:44.419263Z"
    }
   },
   "outputs": [],
   "source": [
    "for COLUMN in CATEGORICAL_COLUMNS:\n",
    "    WHOLE_DATA[COLUMN] = WHOLE_DATA[COLUMN].fillna('NaN')\n",
    "for COLUMN in NUMERICAL_COLUMNS:\n",
    "    WHOLE_DATA[COLUMN] = WHOLE_DATA[COLUMN].fillna(-1)"
   ]
  },
  {
   "cell_type": "code",
   "execution_count": null,
   "id": "9aa7152fde33a89a",
   "metadata": {},
   "outputs": [],
   "source": [
    "# find the "
   ]
  },
  {
   "cell_type": "code",
   "execution_count": null,
   "id": "e1d1880ac6198ea3",
   "metadata": {},
   "outputs": [],
   "source": []
  },
  {
   "cell_type": "code",
   "execution_count": null,
   "id": "3c5aac845355d3cf",
   "metadata": {},
   "outputs": [],
   "source": []
  },
  {
   "cell_type": "code",
   "execution_count": null,
   "id": "893b9649eebdef5e",
   "metadata": {},
   "outputs": [],
   "source": []
  },
  {
   "cell_type": "code",
   "execution_count": null,
   "id": "3ca671da796b8af7",
   "metadata": {
    "ExecuteTime": {
     "end_time": "2024-11-05T11:40:06.003702Z",
     "start_time": "2024-11-05T11:40:06.002304Z"
    }
   },
   "outputs": [],
   "source": []
  },
  {
   "cell_type": "code",
   "execution_count": null,
   "id": "5b2b32bb69774529",
   "metadata": {
    "ExecuteTime": {
     "end_time": "2024-11-05T11:41:27.238524Z",
     "start_time": "2024-11-05T11:41:27.235890Z"
    }
   },
   "outputs": [],
   "source": [
    "# MasVnrArea is 0 when MasVnrType is None\n",
    "\n",
    "\n",
    "# BsmtFinSF1 is 0 when BsmtCond is None\n",
    "# BsmtFinSF2 is 0 when BsmtCond is None\n",
    "# BsmtUnfSF is 0 when BsmtCond is None\n",
    "# TotalBsmtSF is 0 when BsmtCond is None\n",
    "# BsmtFullBath is 0 when BsmtCond is None\n",
    "# BsmtHalfBath is 0 when BsmtCond is None"
   ]
  },
  {
   "cell_type": "code",
   "execution_count": null,
   "id": "10bec3cc598d7c4d",
   "metadata": {
    "ExecuteTime": {
     "end_time": "2024-11-05T11:41:27.656831Z",
     "start_time": "2024-11-05T11:41:27.609492Z"
    }
   },
   "outputs": [],
   "source": [
    "# find the support of the rule MasVnrArea = 0 -> MasVnrType = None\n",
    "BODY_VALUES = {'MasVnrArea': 0}\n",
    "HEAD_VALUES = {'MasVnrType': 'NaN'}\n",
    "RULE_INFO = find_rule_info(WHOLE_DATA, BODY_VALUES, HEAD_VALUES)\n",
    "RULE_INFO"
   ]
  },
  {
   "cell_type": "code",
   "execution_count": null,
   "id": "110b87507790ebb4",
   "metadata": {
    "ExecuteTime": {
     "end_time": "2024-11-05T11:50:54.327838Z",
     "start_time": "2024-11-05T11:50:54.318834Z"
    }
   },
   "outputs": [],
   "source": [
    "def ARM_rules(df: pd.DataFrame, min_support: float, min_confidence: float) -> pd.DataFrame:\n",
    "    \"\"\"\n",
    "    Finds all the rules with support and confidence higher than the given minimum values\n",
    "    \n",
    "    :param df: dataframe to find the rules\n",
    "    :param min_support: minimum support value for the rules\n",
    "    :param min_confidence: minimum confidence value for the rules\n",
    "    :return: dataframe of rules\n",
    "    \"\"\"\n",
    "    rules = pd.DataFrame(columns=['Body_Name', 'Body_Value', 'Head_Name', 'Head_Value', 'Support', 'Confidence', 'Lift'])\n",
    "    \n",
    "    for column in df.columns:\n",
    "        unique_values = df[column].unique()\n",
    "        for value in unique_values:\n",
    "            body_values = {column: value}\n",
    "            for column2 in df.columns:\n",
    "                unique_values2 = df[column2].unique()\n",
    "                for value2 in unique_values2:\n",
    "                    head_values = {column2: value2}\n",
    "                    rule_info = find_rule_info(df, body_values, head_values)\n",
    "                    if rule_info['support'] >= min_support and rule_info['confidence'] >= min_confidence:\n",
    "                        rules = rules.append({'Body_Name': column, 'Body_Value': value, 'Head_Name': column2, 'Head_Value': value2, 'Support': rule_info['support'], 'Confidence': rule_info['confidence'], 'Lift': rule_info['lift']}, ignore_index=True)\n",
    "                        \n",
    "    return rules\n",
    "    \n",
    "    "
   ]
  },
  {
   "cell_type": "code",
   "execution_count": null,
   "id": "d6e36462e3c1d58c",
   "metadata": {
    "ExecuteTime": {
     "end_time": "2024-11-05T12:05:22.141806Z",
     "start_time": "2024-11-05T12:05:22.048076Z"
    }
   },
   "outputs": [],
   "source": [
    "# for numerıcal values create a new column to show that the value is missing or not, drop the original column\n",
    "DATA_FOR_MISSING = WHOLE_DATA.copy()\n",
    "DATA_FOR_MISSING.drop(columns=[TARGET_COLUMN, 'Id'], inplace=True)\n",
    "# CHANGE mssubclass to categorical covert to str\n",
    "DATA_FOR_MISSING['MSSubClass'] = DATA_FOR_MISSING['MSSubClass'].astype(str)\n",
    "\n",
    "for COLUMN in NUMERICAL_COLUMNS:\n",
    "    DATA_FOR_MISSING[f'{COLUMN}_exists'] = DATA_FOR_MISSING[COLUMN].apply(lambda x: 0 if x == -1 else 1)\n",
    "    DATA_FOR_MISSING.drop(columns=[COLUMN], inplace=True)\n",
    "    \n",
    "DATA_FOR_MISSING"
   ]
  },
  {
   "cell_type": "code",
   "execution_count": null,
   "id": "e950c8106df2a624",
   "metadata": {
    "ExecuteTime": {
     "end_time": "2024-11-05T12:06:04.865734Z",
     "start_time": "2024-11-05T12:06:04.845166Z"
    }
   },
   "outputs": [],
   "source": [
    "# change dataframe as for every column create dummy columns for every unique value\n",
    "DATA_FOR_MISSING = pd.get_dummies(DATA_FOR_MISSING)\n",
    "# change 1 and 0 to True and False\n",
    "DATA_FOR_MISSING = DATA_FOR_MISSING.astype(bool)"
   ]
  },
  {
   "cell_type": "code",
   "execution_count": null,
   "id": "53e340550ae0d51c",
   "metadata": {
    "ExecuteTime": {
     "end_time": "2024-11-05T12:06:06.843988Z",
     "start_time": "2024-11-05T12:06:06.769565Z"
    }
   },
   "outputs": [],
   "source": [
    "RULES = ARM_rules(DATA_FOR_MISSING, 0.5, 0.5)\n",
    "RULES"
   ]
  },
  {
   "cell_type": "code",
   "execution_count": null,
   "id": "e17c20ba5bbc4125",
   "metadata": {
    "ExecuteTime": {
     "start_time": "2024-11-05T12:06:08.006724Z"
    }
   },
   "outputs": [],
   "source": [
    "RULES = apriori(DATA_FOR_MISSING, min_support=0.5, use_colnames=True)\n",
    "RULES"
   ]
  },
  {
   "cell_type": "code",
   "execution_count": null,
   "id": "69703430d32f672c",
   "metadata": {
    "ExecuteTime": {
     "end_time": "2024-11-07T17:12:06.520466Z",
     "start_time": "2024-11-07T17:12:06.489286Z"
    }
   },
   "outputs": [],
   "source": [
    "from sklearn.ensemble import RandomForestRegressor, RandomForestClassifier\n",
    "from sklearn.tree import DecisionTreeRegressor, DecisionTreeClassifier\n",
    "from sklearn.metrics import root_mean_squared_error, mean_absolute_percentage_error\n",
    "from sklearn.impute import KNNImputer"
   ]
  },
  {
   "cell_type": "code",
   "execution_count": null,
   "id": "11de5fd5e803e404",
   "metadata": {},
   "outputs": [],
   "source": []
  },
  {
   "cell_type": "code",
   "execution_count": null,
   "id": "17f32835e6842511",
   "metadata": {},
   "outputs": [],
   "source": []
  },
  {
   "cell_type": "code",
   "execution_count": null,
   "id": "8e35f8c47d65774e",
   "metadata": {},
   "outputs": [],
   "source": []
  },
  {
   "cell_type": "code",
   "execution_count": null,
   "id": "c67805138ea2c320",
   "metadata": {},
   "outputs": [],
   "source": []
  },
  {
   "cell_type": "code",
   "execution_count": null,
   "id": "2a4ac68dd0e26e84",
   "metadata": {},
   "outputs": [],
   "source": []
  },
  {
   "cell_type": "code",
   "execution_count": null,
   "id": "d39e5bab625b15e6",
   "metadata": {},
   "outputs": [],
   "source": []
  },
  {
   "cell_type": "code",
   "execution_count": null,
   "id": "35f0c090d2878b6",
   "metadata": {},
   "outputs": [],
   "source": []
  },
  {
   "cell_type": "code",
   "execution_count": null,
   "id": "e9fdec2155cb3684",
   "metadata": {},
   "outputs": [],
   "source": []
  },
  {
   "cell_type": "code",
   "execution_count": null,
   "id": "89820766923f964",
   "metadata": {},
   "outputs": [],
   "source": []
  },
  {
   "cell_type": "code",
   "execution_count": null,
   "id": "1935a4c53e004a1e",
   "metadata": {},
   "outputs": [],
   "source": []
  },
  {
   "cell_type": "code",
   "execution_count": null,
   "id": "c61d418492a7d781",
   "metadata": {
    "ExecuteTime": {
     "end_time": "2024-11-07T17:00:41.835892Z",
     "start_time": "2024-11-07T17:00:41.828703Z"
    }
   },
   "outputs": [],
   "source": [
    "def create_cleaner_predictive_models(df: pd.DataFrame,\n",
    "                                     train_indices: range,\n",
    "                                     numerical_columns: list[str],\n",
    "                                     categorical_columns: list[str]) -> dict[str, DecisionTreeRegressor]:\n",
    "        \"\"\"\n",
    "        Creates predictive models for filling missing values in numerical columns\n",
    "    \n",
    "        IMPORTANT: NaN values in categorical columns should convert into string type 'NaN' for this function to work\n",
    "        \n",
    "        :param df: dataframe to create predictive models\n",
    "        :param train_indices: indices of the training data in the dataframe (for splitting the data)\n",
    "        :param numerical_columns: list of numerical columns in the dataframe\n",
    "        :param categorical_columns: list of categorical columns in the dataframe\n",
    "        :return: dictionary of predictive models for numerical columns\n",
    "        \"\"\"\n",
    "        predictive_models = {}\n",
    "        \n",
    "        encoded_df = pd.get_dummies(df[categorical_columns])\n",
    "        \n",
    "        df_train = df.loc[train_indices]\n",
    "        encoded_df_just_train = encoded_df.loc[train_indices]\n",
    "        encoded_df_just_train.reset_index(drop=True, inplace=True)\n",
    "        \n",
    "        for column in numerical_columns:\n",
    "            # get rows that are not NaN\n",
    "            not_nan_rows = df_train[~df_train[column].isna()]\n",
    "            not_nan_rows.reset_index(drop=True, inplace=True)\n",
    "\n",
    "            # use categorical columns in not_nan_rows to train the model, XG\n",
    "            model = RandomForestRegressor(n_estimators=100, max_depth=5, random_state=0)\n",
    "            model.fit(encoded_df_just_train.loc[not_nan_rows.index], not_nan_rows[column])\n",
    "            \n",
    "            predictive_models[column] = model\n",
    "            \n",
    "            # print the error, every time predict to a data convert it a integer\n",
    "            train_predictions = list(map(int, model.predict(encoded_df_just_train.loc[not_nan_rows.index])))\n",
    "            real_values = list(not_nan_rows[column])\n",
    "            \n",
    "            # add 0.0001 to the real values to avoid division by zero            \n",
    "            mape = mean_absolute_percentage_error(real_values, train_predictions)\n",
    "            print(f\"MAPE for {column}: {mape}\")\n",
    "        \n",
    "        return predictive_models"
   ]
  },
  {
   "cell_type": "code",
   "execution_count": null,
   "id": "f2266f499d300a03",
   "metadata": {
    "ExecuteTime": {
     "end_time": "2024-11-07T17:00:43.189288Z",
     "start_time": "2024-11-07T17:00:43.180271Z"
    }
   },
   "outputs": [],
   "source": [
    "def fill_missing_data_df(df: pd.DataFrame,\n",
    "                         numerical_columns: list[str],\n",
    "                         categorical_columns: list[str],\n",
    "                         predictive_models: dict[str, RandomForestRegressor]) -> pd.DataFrame:\n",
    "    \"\"\"\n",
    "    Preprocesses the data by filling missing values\n",
    "\n",
    "    IMPORTANT: NaN values in categorical columns should convert into string type 'NaN' for this function to work\n",
    "    \n",
    "    :param df: dataframe that needs to be preprocessed, \n",
    "    :param numerical_columns: list of numerical columns in the dataframe\n",
    "    :param categorical_columns: list of categorical columns in the dataframe\n",
    "    :param predictive_models: dictionary of predictive models for numerical columns to fill missing values (all models use categorical columns as features)\n",
    "    :return: preprocessed dataframe\n",
    "    \"\"\"            \n",
    "    no_rows = df.shape[0]\n",
    "\n",
    "    # check if all values in categorical columns are string\n",
    "    for i in range(no_rows):\n",
    "        for column in categorical_columns:\n",
    "            if not isinstance(df[column][i], str):\n",
    "                raise ValueError(f\"Value {df[column][i]} in column {column} is not a string, please convert it to string, or check for NaN values, index: {i}\")\n",
    "    \n",
    "    preprocessed_df = df.copy()\n",
    "    # iterate over rows\n",
    "    for i in range(no_rows):\n",
    "        # iterate over columns\n",
    "        for column in numerical_columns:\n",
    "            if pd.isna(df[column][i]):\n",
    "                # fill missing value with the predicted value\n",
    "                preprocessed_df[column][i] = int(predictive_models[column].predict(df.loc[[i], categorical_columns])[0])\n",
    "\n",
    "    return preprocessed_df"
   ]
  },
  {
   "cell_type": "code",
   "execution_count": null,
   "id": "488bc253656531fb",
   "metadata": {
    "ExecuteTime": {
     "end_time": "2024-11-07T17:00:44.380718Z",
     "start_time": "2024-11-07T17:00:44.348102Z"
    }
   },
   "outputs": [],
   "source": [
    "TRAIN_DATA = pd.read_csv('data/train.csv')\n",
    "print(f\"Train data shape: {TRAIN_DATA.shape}\")\n",
    "\n",
    "TEST_DATA = pd.read_csv('data/test.csv')\n",
    "print(f\"Test data shape: {TEST_DATA.shape}\")\n",
    "\n",
    "WHOLE_DATA = pd.concat([TRAIN_DATA, TEST_DATA], ignore_index=True)\n",
    "TRAIN_INDICES = range(TRAIN_DATA.shape[0])"
   ]
  },
  {
   "cell_type": "code",
   "execution_count": null,
   "id": "686d1a7d59ed3daa",
   "metadata": {
    "ExecuteTime": {
     "end_time": "2024-11-07T17:00:46.536940Z",
     "start_time": "2024-11-07T17:00:46.526227Z"
    }
   },
   "outputs": [],
   "source": [
    "# make all categorical columns string\n",
    "for COLUMN in CATEGORICAL_COLUMNS:\n",
    "    TRAIN_DATA[COLUMN] = TRAIN_DATA[COLUMN].astype(str)"
   ]
  },
  {
   "cell_type": "code",
   "execution_count": null,
   "id": "86665b340c664910",
   "metadata": {
    "ExecuteTime": {
     "end_time": "2024-11-07T17:01:01.092476Z",
     "start_time": "2024-11-07T17:00:50.141808Z"
    }
   },
   "outputs": [],
   "source": [
    "PREDICTIVE_MODELS = create_cleaner_predictive_models(WHOLE_DATA,\n",
    "                                                     TRAIN_INDICES,\n",
    "                                                     NUMERICAL_COLUMNS,\n",
    "                                                     CATEGORICAL_COLUMNS)"
   ]
  },
  {
   "cell_type": "code",
   "execution_count": null,
   "id": "c0427ea34250ae1",
   "metadata": {
    "ExecuteTime": {
     "end_time": "2024-11-05T06:41:18.130324Z",
     "start_time": "2024-11-05T06:41:18.128454Z"
    }
   },
   "outputs": [],
   "source": []
  },
  {
   "cell_type": "code",
   "execution_count": null,
   "id": "a652b54cd9c10226",
   "metadata": {
    "ExecuteTime": {
     "end_time": "2024-11-05T06:41:20.524380Z",
     "start_time": "2024-11-05T06:41:18.832663Z"
    }
   },
   "outputs": [],
   "source": [
    "# test predictive models on the training data with missing values\n",
    "ENCODED_WHOLE_DATA= pd.get_dummies(WHOLE_DATA[CATEGORICAL_COLUMNS])\n",
    "for COLUMN in PREDICTIVE_MODELS:\n",
    "    print(f\"--------------------------------{COLUMN}--------------------------------\")\n",
    "    NAN_ROWS = WHOLE_DATA[WHOLE_DATA[COLUMN].isna()]\n",
    "    \n",
    "    for index in NAN_ROWS.index:\n",
    "        ROW = ENCODED_WHOLE_DATA.loc[[index]]\n",
    "        PREDICTION = int(PREDICTIVE_MODELS[COLUMN].predict(ROW)[0])\n",
    "        print(f\"Prediction for {COLUMN} in row {ROW.index}: {PREDICTION}\")"
   ]
  },
  {
   "cell_type": "code",
   "execution_count": null,
   "id": "855f973f8a76d844",
   "metadata": {
    "ExecuteTime": {
     "end_time": "2024-11-05T06:04:24.301058Z",
     "start_time": "2024-11-05T06:04:24.299637Z"
    }
   },
   "outputs": [],
   "source": []
  },
  {
   "cell_type": "code",
   "execution_count": null,
   "id": "5a997a72b4f736ea",
   "metadata": {},
   "outputs": [],
   "source": []
  },
  {
   "cell_type": "code",
   "execution_count": null,
   "id": "466d58b9489d9c5e",
   "metadata": {},
   "outputs": [],
   "source": [
    "# MasVnrArea is 0 when MasVnrType is None\n",
    "\n",
    "# BsmtFinSF1 is 0 when BsmtCond is None\n",
    "# BsmtFinSF2 is 0 when BsmtCond is None\n",
    "# BsmtUnfSF is 0 when BsmtCond is None\n",
    "# TotalBsmtSF is 0 when BsmtCond is None\n",
    "# BsmtFullBath is 0 when BsmtCond is None\n",
    "# BsmtHalfBath is 0 when BsmtCond is None\n",
    "\n",
    "# GarageYrBlt is 0 or mean when GarageType is None\n",
    "\n",
    "# GarageCars is 0 when GarageType is None\n",
    "# GarageArea is 0 when GarageType is None"
   ]
  },
  {
   "cell_type": "code",
   "execution_count": null,
   "id": "7739584ac50ec1b6",
   "metadata": {},
   "outputs": [],
   "source": []
  },
  {
   "cell_type": "code",
   "execution_count": null,
   "id": "ba53693b49a7c900",
   "metadata": {},
   "outputs": [],
   "source": []
  },
  {
   "cell_type": "code",
   "execution_count": null,
   "id": "64556fcc4b31129d",
   "metadata": {},
   "outputs": [],
   "source": []
  },
  {
   "cell_type": "code",
   "execution_count": null,
   "id": "c0529337b5ca041c",
   "metadata": {
    "ExecuteTime": {
     "end_time": "2024-11-05T06:52:00.465634Z",
     "start_time": "2024-11-05T06:52:00.444225Z"
    }
   },
   "outputs": [],
   "source": [
    "# show rows BsmtFullBath column is NaN\n",
    "WHOLE_DATA[WHOLE_DATA['BsmtFullBath'] == 0]"
   ]
  },
  {
   "cell_type": "code",
   "execution_count": null,
   "id": "b954980b330b028c",
   "metadata": {
    "ExecuteTime": {
     "end_time": "2024-11-05T05:02:52.125878Z",
     "start_time": "2024-11-05T05:02:52.101450Z"
    }
   },
   "outputs": [],
   "source": [
    "# make all categorical columns string\n",
    "for COLUMN in CATEGORICAL_COLUMNS:\n",
    "    TRAIN_DATA[COLUMN] = TRAIN_DATA[COLUMN].astype(str)"
   ]
  },
  {
   "cell_type": "code",
   "execution_count": null,
   "id": "43814a7edff194e5",
   "metadata": {
    "ExecuteTime": {
     "end_time": "2024-11-05T05:02:52.618491Z",
     "start_time": "2024-11-05T05:02:52.401748Z"
    }
   },
   "outputs": [],
   "source": [
    "fill_missing_data(TRAIN_DATA, NUMERICAL_COLUMNS, CATEGORICAL_COLUMNS)"
   ]
  },
  {
   "cell_type": "code",
   "execution_count": null,
   "id": "bf04ee5065a5a68a",
   "metadata": {},
   "outputs": [],
   "source": []
  }
 ],
 "metadata": {
  "kernelspec": {
   "display_name": "Python 3",
   "language": "python",
   "name": "python3"
  },
  "language_info": {
   "codemirror_mode": {
    "name": "ipython",
    "version": 3
   },
   "file_extension": ".py",
   "mimetype": "text/x-python",
   "name": "python",
   "nbconvert_exporter": "python",
   "pygments_lexer": "ipython3",
   "version": "3.11.7"
  }
 },
 "nbformat": 4,
 "nbformat_minor": 5
}
